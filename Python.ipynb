{
  "cells": [
    {
      "cell_type": "markdown",
      "metadata": {
        "id": "view-in-github",
        "colab_type": "text"
      },
      "source": [
        "<a href=\"https://colab.research.google.com/github/AyushKushwaha2510/Python-Lectures/blob/main/Python.ipynb\" target=\"_parent\"><img src=\"https://colab.research.google.com/assets/colab-badge.svg\" alt=\"Open In Colab\"/></a>"
      ]
    },
    {
      "cell_type": "markdown",
      "metadata": {
        "id": "zISuA9EH-B7x"
      },
      "source": [
        "Write a progaram to swap numbers"
      ]
    },
    {
      "cell_type": "code",
      "execution_count": null,
      "metadata": {
        "colab": {
          "base_uri": "https://localhost:8080/"
        },
        "id": "D5ZVyJ1o2qMy",
        "outputId": "76c3e541-1d55-4f6c-c437-08c1f9b03388"
      },
      "outputs": [
        {
          "name": "stdout",
          "output_type": "stream",
          "text": [
            "6 5\n"
          ]
        }
      ],
      "source": [
        "a, b = 5, 6\n",
        "b, a = a, b\n",
        "print(a, b)"
      ]
    },
    {
      "cell_type": "code",
      "execution_count": null,
      "metadata": {
        "colab": {
          "base_uri": "https://localhost:8080/"
        },
        "id": "9Yab_iJi_nRd",
        "outputId": "4dfc7f99-01cd-40a8-b609-e668fdf3f4cc"
      },
      "outputs": [
        {
          "name": "stdout",
          "output_type": "stream",
          "text": [
            "Hulk power =  1000\n",
            "Thor power =  800\n",
            "After Swap\n",
            "Hulk power =  800\n",
            "Thor power =  1000\n"
          ]
        }
      ],
      "source": [
        "_hulk = 1000\n",
        "_thor = 800\n",
        "print(\"Hulk power = \", _hulk)\n",
        "print(\"Thor power = \", _thor)\n",
        "_hulk, _thor = _thor, _hulk\n",
        "print(\"After Swap\")\n",
        "print(\"Hulk power = \", _hulk)\n",
        "print(\"Thor power = \", _thor)"
      ]
    },
    {
      "cell_type": "markdown",
      "metadata": {
        "id": "BdYp_gNwAiDB"
      },
      "source": [
        "TypeCasting :\n",
        "hulk strenght level is recorded as a string input 1000, convert it into an inteeger and increase it by 200"
      ]
    },
    {
      "cell_type": "code",
      "execution_count": null,
      "metadata": {
        "id": "HEp4xFKcBoiY"
      },
      "outputs": [],
      "source": []
    },
    {
      "cell_type": "markdown",
      "metadata": {
        "id": "Pj87moxBEdM0"
      },
      "source": []
    },
    {
      "cell_type": "markdown",
      "metadata": {
        "id": "mmOjzVVeEnf4"
      },
      "source": []
    },
    {
      "cell_type": "markdown",
      "metadata": {
        "id": "mO1vpyfRA13K"
      },
      "source": [
        "Thor hammer weight is 5000 , but you need to calculate the gravitational force which requies it as a float"
      ]
    },
    {
      "cell_type": "code",
      "execution_count": null,
      "metadata": {
        "id": "japiOTVFBpVb"
      },
      "outputs": [],
      "source": []
    },
    {
      "cell_type": "markdown",
      "metadata": {
        "id": "RcUCupVWBFhu"
      },
      "source": [
        "Locy gets input in seconds as strings = \"3600\". Convert it into an integer and then to hours. Show final result as a float"
      ]
    },
    {
      "cell_type": "code",
      "execution_count": null,
      "metadata": {
        "id": "6-zsQRFKBp-C"
      },
      "outputs": [],
      "source": []
    },
    {
      "cell_type": "markdown",
      "metadata": {
        "id": "rRP3JtNyBXSO"
      },
      "source": [
        "IronMan recorded seven hits outoff ten shots, both integers. Convert them into float and calculatet the accuracy percentage.\n"
      ]
    },
    {
      "cell_type": "code",
      "execution_count": null,
      "metadata": {
        "colab": {
          "base_uri": "https://localhost:8080/"
        },
        "id": "BEeYujhCBqb_",
        "outputId": "1a83d8c7-a9ea-489b-a0dd-1b44c8c578fd"
      },
      "outputs": [
        {
          "name": "stdout",
          "output_type": "stream",
          "text": [
            "Acc % is : 70.0\n",
            "Acc % is : 70.00\n"
          ]
        }
      ],
      "source": [
        "hits, total_shots = 7, 10\n",
        "acc = float(hits/total_shots) * 100\n",
        "print(\"Acc % is :\", acc)\n",
        "print(f\"Acc % is : {acc:.2f}\")\n"
      ]
    },
    {
      "cell_type": "markdown",
      "metadata": {
        "id": "6OpYm-xhEo1B"
      },
      "source": [
        "# Object Referencing\n",
        "\n",
        "```\n",
        "# This is formatted as code\n",
        "```\n",
        "[link text](https://)\n"
      ]
    },
    {
      "cell_type": "markdown",
      "metadata": {
        "id": "5r_gMGOGFZEm"
      },
      "source": [
        "Python Variable hold references to objects, not the actual objects themselves"
      ]
    },
    {
      "cell_type": "markdown",
      "metadata": {
        "id": "bEwdcdukHJBS"
      },
      "source": []
    },
    {
      "cell_type": "code",
      "execution_count": null,
      "metadata": {
        "colab": {
          "base_uri": "https://localhost:8080/"
        },
        "id": "-DF88MArEsGT",
        "outputId": "14e716c6-6ca8-46f4-bfb7-9ae9512f3a2f"
      },
      "outputs": [
        {
          "name": "stdout",
          "output_type": "stream",
          "text": [
            "a original :  [1, 2, 3]\n",
            "a new : [1, 2, 3, 4]\n",
            "b :  [1, 2, 3, 4]\n"
          ]
        }
      ],
      "source": [
        "a = [1, 2, 3]\n",
        "b = a\n",
        "print(\"a original : \", a)\n",
        "b.append(4)\n",
        "print(\"a new :\", a)\n",
        "print(\"b : \", b)"
      ]
    },
    {
      "cell_type": "markdown",
      "metadata": {
        "id": "FRIt43YPHcEr"
      },
      "source": [
        "Re-assinging a variable does not affect other variables referencing the same object unless explicitly updated"
      ]
    },
    {
      "cell_type": "code",
      "execution_count": null,
      "metadata": {
        "colab": {
          "base_uri": "https://localhost:8080/"
        },
        "id": "eQIA6vQUHQwS",
        "outputId": "9c744b50-174e-4d4f-b04b-3b359a6e3e5d"
      },
      "outputs": [
        {
          "name": "stdout",
          "output_type": "stream",
          "text": [
            "a : [1, 2, 3]\n",
            "b : [4, 5, 6]\n"
          ]
        }
      ],
      "source": [
        "a = [1, 2, 3]\n",
        "b = a\n",
        "b = [4, 5, 6]\n",
        "print(\"a :\", a)\n",
        "print(\"b :\", b)"
      ]
    },
    {
      "cell_type": "code",
      "execution_count": null,
      "metadata": {
        "colab": {
          "base_uri": "https://localhost:8080/"
        },
        "id": "4P92jFjyIEpb",
        "outputId": "04268b4a-17e7-43be-dc92-ac0dd9f7402c"
      },
      "outputs": [
        {
          "name": "stdout",
          "output_type": "stream",
          "text": [
            "Original Shield is ['vibranium', 'round']\n",
            "Wolverine changes the material of shield\n",
            "New_shield ['vibranium', 'round']\n"
          ]
        }
      ],
      "source": [
        "shield = ['vibranium', 'round']\n",
        "copy_shield = shield\n",
        "print(\"Original Shield is\", shield)\n",
        "print(\"Wolverine changes the material of shield\")\n",
        "copy_shield = 'adamantium'\n",
        "print(\"New_shield\", shield)"
      ]
    },
    {
      "cell_type": "markdown",
      "metadata": {
        "id": "scdWX0TvLDkB"
      },
      "source": [
        "Removing a variable\n"
      ]
    },
    {
      "cell_type": "code",
      "execution_count": null,
      "metadata": {
        "colab": {
          "base_uri": "https://localhost:8080/",
          "height": 176
        },
        "id": "xZJ4BUsrLBbk",
        "outputId": "d4632d28-d507-480e-8250-4e48fc1f56e1"
      },
      "outputs": [
        {
          "ename": "NameError",
          "evalue": "name 'a' is not defined",
          "output_type": "error",
          "traceback": [
            "\u001b[0;31m---------------------------------------------------------------------------\u001b[0m",
            "\u001b[0;31mNameError\u001b[0m                                 Traceback (most recent call last)",
            "\u001b[0;32m/tmp/ipython-input-1110258851.py\u001b[0m in \u001b[0;36m<cell line: 0>\u001b[0;34m()\u001b[0m\n\u001b[1;32m      1\u001b[0m \u001b[0ma\u001b[0m \u001b[0;34m=\u001b[0m \u001b[0;36m10\u001b[0m\u001b[0;34m\u001b[0m\u001b[0;34m\u001b[0m\u001b[0m\n\u001b[1;32m      2\u001b[0m \u001b[0;32mdel\u001b[0m \u001b[0ma\u001b[0m\u001b[0;34m\u001b[0m\u001b[0;34m\u001b[0m\u001b[0m\n\u001b[0;32m----> 3\u001b[0;31m \u001b[0mprint\u001b[0m\u001b[0;34m(\u001b[0m\u001b[0;34m\"a :\"\u001b[0m\u001b[0;34m,\u001b[0m \u001b[0ma\u001b[0m\u001b[0;34m)\u001b[0m\u001b[0;34m\u001b[0m\u001b[0;34m\u001b[0m\u001b[0m\n\u001b[0m",
            "\u001b[0;31mNameError\u001b[0m: name 'a' is not defined"
          ]
        }
      ],
      "source": [
        "a = 10\n",
        "del a\n",
        "print(\"a :\", a)"
      ]
    },
    {
      "cell_type": "code",
      "execution_count": null,
      "metadata": {
        "colab": {
          "base_uri": "https://localhost:8080/"
        },
        "id": "mv3YISOiLY6X",
        "outputId": "baece36e-403f-4bee-9e4b-5422549b408e"
      },
      "outputs": [
        {
          "name": "stdout",
          "output_type": "stream",
          "text": [
            "updated list : ['banana', 'orange', 'mango', 'pineapple']\n",
            "updated list : ['banana', 'orange']\n"
          ]
        }
      ],
      "source": [
        "x = ['apple', 'banana', 'orange', 'mango', 'pineapple']\n",
        "del x[0]\n",
        "print(\"updated list :\",x)\n",
        "del x[2:4]\n",
        "print(\"updated list :\",x)"
      ]
    },
    {
      "cell_type": "markdown",
      "metadata": {
        "id": "pL6uEKodAkKU"
      },
      "source": [
        "You need to calculate the average of the power level of your favourite avenger character\n"
      ]
    },
    {
      "cell_type": "code",
      "execution_count": null,
      "metadata": {
        "colab": {
          "base_uri": "https://localhost:8080/"
        },
        "id": "WkDH4Bv_Av6p",
        "outputId": "75fc258a-34f8-48d3-d910-1eb55bae2c6e"
      },
      "outputs": [
        {
          "name": "stdout",
          "output_type": "stream",
          "text": [
            "average : 286.6\n"
          ]
        }
      ],
      "source": [
        "power = [200, 400, 500, 100, 233]\n",
        "if power :\n",
        "  average = round(sum(power)/len(power), 2)\n",
        "else:\n",
        "  average = 0\n",
        "\n",
        "print(\"average :\", average)"
      ]
    },
    {
      "cell_type": "markdown",
      "metadata": {
        "id": "aUk5ZOgnDrZn"
      },
      "source": [
        "Interview TIP :\n",
        "\n",
        "You must validate your input data and if empty or incorrect datatype can collapse even the strongest algorithm.\n",
        "Never understimate the input validation"
      ]
    },
    {
      "cell_type": "markdown",
      "metadata": {
        "id": "qRbZBL0wHQvN"
      },
      "source": []
    },
    {
      "cell_type": "code",
      "execution_count": null,
      "metadata": {
        "id": "gHZQvXFdE2Zt"
      },
      "outputs": [],
      "source": [
        "import statistics"
      ]
    },
    {
      "cell_type": "markdown",
      "metadata": {
        "id": "AoejrcYsHScw"
      },
      "source": [
        "String"
      ]
    },
    {
      "cell_type": "markdown",
      "metadata": {
        "id": "CzRsf4_CHnYj"
      },
      "source": [
        "# String Datatype\n",
        "\n",
        "1. Ordered collection of character arranged in a sequence.\n",
        "2. String are arrays of bytes represented in Unicode characters.\n",
        "3. No separate character. Character is lenght of one.\n",
        "4. String is represented using ' ' or \" \" or \"\"\" \"\"\" .\n",
        "5. String is immutable."
      ]
    },
    {
      "cell_type": "code",
      "execution_count": null,
      "metadata": {
        "colab": {
          "base_uri": "https://localhost:8080/"
        },
        "id": "a5HXkhF9IdQW",
        "outputId": "cfad7c33-4d54-47cb-c6a5-b916f3da1fe0"
      },
      "outputs": [
        {
          "name": "stdout",
          "output_type": "stream",
          "text": [
            "This is a string\n",
            "Thisisalsoastring\n",
            "This is also a string\n",
            "This is an example of single line string written accross multiple lines.\n"
          ]
        }
      ],
      "source": [
        "s1 = \"This is a string\"\n",
        "print(s1)\n",
        "s2 = \"This\" + \"is\" + 'also' + '''a''' + \"\"\"string\"\"\"\n",
        "print(s2)\n",
        "s3 = \"This\" + \" \" +  \"is\" + \" \" + 'also' + \" \" +  '''a''' + \" \" + \"\"\"string\"\"\"\n",
        "print(s3)\n",
        "s4 = \"This is an example of \\\n",
        "single line string written accross multiple lines.\"\n",
        "print(s4)"
      ]
    },
    {
      "cell_type": "markdown",
      "metadata": {
        "id": "cOJPOHhTK8CQ"
      },
      "source": [
        "Concept :\n",
        "A string can be repeated by multiplying it by an integer."
      ]
    },
    {
      "cell_type": "code",
      "execution_count": null,
      "metadata": {
        "colab": {
          "base_uri": "https://localhost:8080/"
        },
        "id": "eKTxeRsGKoVI",
        "outputId": "ef15ca9f-54ce-4eba-896b-eb10833f6b37"
      },
      "outputs": [
        {
          "name": "stdout",
          "output_type": "stream",
          "text": [
            "hulk : SMASH!! \n",
            "hulk : SMASH!! \n",
            "hulk : SMASH!! \n",
            "\n"
          ]
        }
      ],
      "source": [
        "hulk = \"hulk : SMASH!! \\n\"\n",
        "print(hulk*3)"
      ]
    },
    {
      "cell_type": "markdown",
      "metadata": {
        "id": "_ve1lljFMrdz"
      },
      "source": [
        "if you use # in a string , it will not behave as a comment"
      ]
    },
    {
      "cell_type": "code",
      "execution_count": null,
      "metadata": {
        "colab": {
          "base_uri": "https://localhost:8080/"
        },
        "id": "2N-hL0FEMyPb",
        "outputId": "8568db27-e68f-451f-e9ab-6a59f86e37fb"
      },
      "outputs": [
        {
          "name": "stdout",
          "output_type": "stream",
          "text": [
            "MissionID:#100\n",
            "Avengers Assemble!#This is not a comment\n",
            "The length of this string is 7 \n",
            "The length of this string is 8 \n",
            "The first char of this string is I \n",
            "The last char of this string is N \n",
            "The first char of this string using -0 is I \n"
          ]
        }
      ],
      "source": [
        "iron_man = \"MissionID:#100\"\n",
        "cap_am = \"Avengers Assemble!#This is not a comment\" # including (#) symbol to a string\n",
        "print(iron_man)\n",
        "print(cap_am)\n",
        "# lenght of string\n",
        "avenger = \"IRONMAN\"\n",
        "avenger1 = \"IRON MAN\"\n",
        "lenght_av = len(avenger)\n",
        "lenght_av1 = len(avenger1)\n",
        "print(f\"The length of this string is {lenght_av} \")\n",
        "print(f\"The length of this string is {lenght_av1} \")\n",
        "\n",
        "first_char = avenger1[0]\n",
        "print(f\"The first char of this string is {first_char} \")\n",
        "last_char = avenger1[-1]\n",
        "print(f\"The last char of this string is {last_char} \")\n",
        "\n",
        "# you can use both 0 and -0 for the first index , both are same\n",
        "first_char = avenger1[-0]\n",
        "print(f\"The first char of this string using -0 is {first_char} \")"
      ]
    },
    {
      "cell_type": "code",
      "execution_count": null,
      "metadata": {
        "colab": {
          "base_uri": "https://localhost:8080/"
        },
        "id": "iFknkdpPPW6V",
        "outputId": "43a1fccf-d6df-4d51-fcc3-9f07d7c09345"
      },
      "outputs": [
        {
          "name": "stdout",
          "output_type": "stream",
          "text": [
            " MAN\n",
            "IRON\n",
            "NORI\n",
            "I*R*O*N* *M*A*N*\n",
            " IRON M\n"
          ]
        }
      ],
      "source": [
        "# Slicing of String\n",
        "\n",
        "avenger = \"IRON MAN\"\n",
        "slicing = avenger[4:9] # if the upper limit is > size of string , then it will slice the sting till last\n",
        "print(slicing)\n",
        "\n",
        "print(avenger[-8:-4])\n",
        "print(avenger[-8:-4][::-1])\n",
        "\n",
        "for _ in avenger :\n",
        "  print(_, end = \"*\")\n",
        "\n",
        "print(\"\\n\",avenger[:6])"
      ]
    },
    {
      "cell_type": "markdown",
      "metadata": {
        "id": "wkE3gnPCSOtv"
      },
      "source": [
        "Write a pyton program to select the parts {middle} of the sequences. These sequences are the tokens of text.\n",
        "Example: token = [\"ironman\", \"saves\", \"the\", \"world\", \"again\"]"
      ]
    },
    {
      "cell_type": "code",
      "execution_count": null,
      "metadata": {
        "colab": {
          "base_uri": "https://localhost:8080/"
        },
        "id": "ebye2ft8TTMb",
        "outputId": "137b3395-7cd1-4a2a-be1b-031ae7844366"
      },
      "outputs": [
        {
          "name": "stdout",
          "output_type": "stream",
          "text": [
            "['the']\n"
          ]
        }
      ],
      "source": [
        "token = [\"ironman\", \"saves\", \"the\", \"world\", \"again\"]\n",
        "middle = token[2:3]\n",
        "print(middle)"
      ]
    },
    {
      "cell_type": "markdown",
      "metadata": {
        "id": "6FLKhpSET87b"
      },
      "source": [
        "Slicing Concepts is usefull in text preprocssing (NLP - Natural Language Processing)\n",
        "\n",
        "It is aslo used in features extraction and sequence modles\n",
        "eg : RNN, tansformer network"
      ]
    },
    {
      "cell_type": "markdown",
      "metadata": {
        "id": "wW1Ti3ZZAcNR"
      },
      "source": [
        "#Boolean\n"
      ]
    },
    {
      "cell_type": "markdown",
      "metadata": {
        "id": "ziqc_Ww3Aeas"
      },
      "source": []
    },
    {
      "cell_type": "code",
      "execution_count": null,
      "metadata": {
        "colab": {
          "base_uri": "https://localhost:8080/"
        },
        "id": "bJ264VwjAfnx",
        "outputId": "6ca9b2f1-7106-43a8-ea3e-22d6dd5df5b7"
      },
      "outputs": [
        {
          "name": "stdout",
          "output_type": "stream",
          "text": [
            "True\n",
            "True\n",
            "True\n",
            "True\n",
            "False\n",
            "True\n",
            "False\n",
            "False\n",
            "30\n"
          ]
        }
      ],
      "source": [
        "print(10>9>8)\n",
        "print(10>9 and 9>8)\n",
        "print(10>9 or 9>8)\n",
        "print(10>9 or 10<9)\n",
        "print(10>9 and 10<9)\n",
        "print(10>9<11)\n",
        "print(10>9<5)\n",
        "print(not 10>9)\n",
        "\n",
        "print(10^20)"
      ]
    },
    {
      "cell_type": "markdown",
      "metadata": {
        "id": "8IAL5zvCDnqG"
      },
      "source": [
        "Uses of XOR:\n",
        "if original bits are changed by some other bits, then we can check it by doing xor, the bits which are 1 , they are changed."
      ]
    },
    {
      "cell_type": "markdown",
      "metadata": {
        "id": "TqvE0gPKD3iM"
      },
      "source": [
        "Swap two numbers without using any extra variable"
      ]
    },
    {
      "cell_type": "code",
      "execution_count": null,
      "metadata": {
        "colab": {
          "base_uri": "https://localhost:8080/"
        },
        "id": "z3B4kIDOD3P-",
        "outputId": "29ca0323-44a6-48ea-d860-ea216f506c9a"
      },
      "outputs": [
        {
          "name": "stdout",
          "output_type": "stream",
          "text": [
            "orignial 5 7\n",
            "swaped 7 5\n"
          ]
        }
      ],
      "source": [
        "a = 5\n",
        "b = 7\n",
        "\n",
        "print(\"orignial\", a, b)\n",
        "a = a^b\n",
        "b = a^b   # b = a^b^b  => b = a\n",
        "a = a^b   # a = a^b^a  => a = b\n",
        "\n",
        "print(\"swaped\", a, b)\n"
      ]
    },
    {
      "cell_type": "markdown",
      "metadata": {
        "id": "0BSUBL2wFNcy"
      },
      "source": [
        "Find the XOR of a number 10, 7.\n"
      ]
    },
    {
      "cell_type": "code",
      "execution_count": null,
      "metadata": {
        "colab": {
          "base_uri": "https://localhost:8080/"
        },
        "id": "WVJqDHJ3FX5e",
        "outputId": "4ed90eed-3e5c-4904-bf49-ca66405cb556"
      },
      "outputs": [
        {
          "name": "stdout",
          "output_type": "stream",
          "text": [
            "13\n"
          ]
        }
      ],
      "source": [
        "xor = 10^7\n",
        "print(xor)"
      ]
    },
    {
      "cell_type": "markdown",
      "metadata": {
        "id": "vNHBsCfLFRwz"
      },
      "source": [
        "Check if XOR of two numbers are odd or even"
      ]
    },
    {
      "cell_type": "code",
      "execution_count": null,
      "metadata": {
        "colab": {
          "base_uri": "https://localhost:8080/"
        },
        "id": "fHdJLYqPFYfj",
        "outputId": "76f71e58-a576-4920-8f4c-dcaa373f48fa"
      },
      "outputs": [
        {
          "name": "stdout",
          "output_type": "stream",
          "text": [
            "odd\n"
          ]
        }
      ],
      "source": [
        "a = 10\n",
        "b = 7\n",
        "\n",
        "if(a^b)%2 == 0:\n",
        "  print(\"even\")\n",
        "else:\n",
        "  print(\"odd\")"
      ]
    },
    {
      "cell_type": "markdown",
      "metadata": {
        "id": "3QvHvjTUF5S7"
      },
      "source": [
        "Find unique number in an array, only one integer is unique, rest comes two times"
      ]
    },
    {
      "cell_type": "code",
      "execution_count": null,
      "metadata": {
        "colab": {
          "base_uri": "https://localhost:8080/"
        },
        "id": "OYbJEdW6GDGS",
        "outputId": "b71da6ec-a523-4a2d-b747-5e89b08718b6"
      },
      "outputs": [
        {
          "name": "stdout",
          "output_type": "stream",
          "text": [
            "4\n"
          ]
        }
      ],
      "source": [
        "L = [4, 1, 2, 1, 2]\n",
        "\n",
        "unique = 0\n",
        "for num in L:\n",
        "  unique ^= num\n",
        "\n",
        "print(unique)\n"
      ]
    },
    {
      "cell_type": "markdown",
      "metadata": {
        "id": "0-Pbc2TlIzeQ"
      },
      "source": [
        "Fibonnaci and XOR are used for bitwise Encryption"
      ]
    },
    {
      "cell_type": "code",
      "execution_count": null,
      "metadata": {
        "colab": {
          "base_uri": "https://localhost:8080/"
        },
        "id": "_c4SfJlTIvKx",
        "outputId": "78166ee7-3a60-4256-c45d-73947b0acf93"
      },
      "outputs": [
        {
          "name": "stdout",
          "output_type": "stream",
          "text": [
            "2\n"
          ]
        }
      ],
      "source": [
        "print(True + True)"
      ]
    },
    {
      "cell_type": "code",
      "execution_count": null,
      "metadata": {
        "colab": {
          "base_uri": "https://localhost:8080/"
        },
        "id": "SoiWYyTTJEKd",
        "outputId": "ee2be405-0dbd-478b-ee52-04f110465f91"
      },
      "outputs": [
        {
          "name": "stdout",
          "output_type": "stream",
          "text": [
            "False\n",
            "True\n"
          ]
        }
      ],
      "source": [
        "print(bool([]))  # empty\n",
        "print(bool(\" \")) # non empty"
      ]
    },
    {
      "cell_type": "markdown",
      "metadata": {
        "id": "EjX3Y55vJi8_"
      },
      "source": [
        "all and any function\n",
        "all()\n",
        "any()"
      ]
    },
    {
      "cell_type": "code",
      "execution_count": null,
      "metadata": {
        "colab": {
          "base_uri": "https://localhost:8080/"
        },
        "id": "g2FXH4f1Jny4",
        "outputId": "26d019cf-e93f-4668-ccf1-42427089632f"
      },
      "outputs": [
        {
          "name": "stdout",
          "output_type": "stream",
          "text": [
            "True\n",
            "False\n",
            "True\n",
            "False\n",
            "True\n",
            "True\n"
          ]
        }
      ],
      "source": [
        "print(all([1, 2, 3]))\n",
        "print(all([0, 2, 3]))    # since all are not true,\n",
        "print(all([2, 2, 3]))\n",
        "print(all([0, 1, 2, 3])) # since all are not true,\n",
        "\n",
        "print(any([0, 1, 2, 3])) # since any is one (non-zero)\n",
        "\n",
        "print(any([True, True]))"
      ]
    },
    {
      "cell_type": "markdown",
      "metadata": {
        "id": "--RHUNa5KtE5"
      },
      "source": [
        "Check for students who have marks greater than 90"
      ]
    },
    {
      "cell_type": "code",
      "execution_count": null,
      "metadata": {
        "colab": {
          "base_uri": "https://localhost:8080/"
        },
        "id": "YoicXVm5Kw8D",
        "outputId": "d8771a56-8f4f-4d48-db0b-fc81edf1644f"
      },
      "outputs": [
        {
          "name": "stdout",
          "output_type": "stream",
          "text": [
            "True\n",
            "False\n"
          ]
        }
      ],
      "source": [
        "marks = [65, 70, 80, 95]\n",
        "\n",
        "print(any(m >= 90 for m in marks))\n",
        "print(all(m >= 90 for m in marks))"
      ]
    },
    {
      "cell_type": "markdown",
      "metadata": {
        "id": "C6yxBx3oRjrG"
      },
      "source": [
        "#OPERATORS\n"
      ]
    },
    {
      "cell_type": "code",
      "execution_count": null,
      "metadata": {
        "colab": {
          "base_uri": "https://localhost:8080/"
        },
        "id": "LxAsu81KSOSa",
        "outputId": "7edb7166-2851-47f3-f74c-4a6c04d8faf7"
      },
      "outputs": [
        {
          "output_type": "stream",
          "name": "stdout",
          "text": [
            "19\n",
            "1\n",
            "90\n",
            "1.1111111111111112\n",
            "1\n",
            "4\n",
            "0\n",
            "256\n",
            "-4\n",
            "25\n",
            "20\n",
            "25\n",
            "125\n",
            "25.0\n",
            "5.0\n",
            "0.0\n"
          ]
        }
      ],
      "source": [
        "print(10+9)\n",
        "print(10-9)\n",
        "print(10*9)\n",
        "print(10/9)\n",
        "print(10//9)\n",
        "print(2**2)\n",
        "print(10%2) #   % is used in hashing and to check divisiblity and cryptography and alteration of my message(encryption)\n",
        "print(2**2**3) # associativity is RIGHT to LEFT\n",
        "print(-10//3) # in c/c++ is gives o/p -3\n",
        "\n",
        "\n",
        "# ASSIGNMENT OPERATOR\n",
        "\"\"\"\n",
        "a = a + b is highest precidence\n",
        "a += b is lowest precidence\n",
        "\"\"\"\n",
        "a = 5\n",
        "a*=2+3\n",
        "print(a)\n",
        "\n",
        "\"\"\" Why do we use shorthand \"\"\"\n",
        "\n",
        "a-=2+3\n",
        "print(a)\n",
        "\n",
        "a+=2+3\n",
        "print(a)\n",
        "\n",
        "a*=2+3\n",
        "print(a)\n",
        "\n",
        "a/=2+3\n",
        "print(a)\n",
        "\n",
        "a//=2+3\n",
        "print(a)\n",
        "\n",
        "a%=2+3\n",
        "print(a)\n",
        "\n",
        "\n",
        "\n"
      ]
    },
    {
      "cell_type": "code",
      "source": [
        "A = [1, 2]\n",
        "B = A\n",
        "# A += [3]    # this update V\n",
        "A = A + [3]   # this does not update V, update inplace\n",
        "print(A)\n",
        "print(B)"
      ],
      "metadata": {
        "colab": {
          "base_uri": "https://localhost:8080/"
        },
        "id": "Q_84igrdXh79",
        "outputId": "c1db1385-ee65-4492-9228-c9a26da9d3dd"
      },
      "execution_count": null,
      "outputs": [
        {
          "output_type": "stream",
          "name": "stdout",
          "text": [
            "[1, 2, 3]\n",
            "[1, 2]\n"
          ]
        }
      ]
    },
    {
      "cell_type": "code",
      "source": [
        "x = 5\n",
        "x &= 3\n",
        "print(x)\n",
        "\n",
        "y = 5\n",
        "y |= 3\n",
        "print(y)"
      ],
      "metadata": {
        "colab": {
          "base_uri": "https://localhost:8080/"
        },
        "id": "jpnX5pUEYZZI",
        "outputId": "0eecd26f-3669-40ca-9ecb-79e174205179"
      },
      "execution_count": null,
      "outputs": [
        {
          "output_type": "stream",
          "name": "stdout",
          "text": [
            "1\n",
            "7\n"
          ]
        }
      ]
    },
    {
      "cell_type": "code",
      "source": [
        "x = 5\n",
        "print(x >> 1) # 1 is the power of 2\n",
        "print(x << 1)"
      ],
      "metadata": {
        "colab": {
          "base_uri": "https://localhost:8080/"
        },
        "id": "1LQhngd5ZGt0",
        "outputId": "2cc98178-f0ee-45af-e25e-7f18c0943882"
      },
      "execution_count": null,
      "outputs": [
        {
          "output_type": "stream",
          "name": "stdout",
          "text": [
            "2\n",
            "10\n"
          ]
        }
      ]
    },
    {
      "cell_type": "code",
      "source": [
        "print(x := 5)   # : is used to make direct assignment in print"
      ],
      "metadata": {
        "colab": {
          "base_uri": "https://localhost:8080/"
        },
        "id": "W2h5ZjSMaidT",
        "outputId": "8dd4a123-307b-409f-99d6-2f2a050cb214"
      },
      "execution_count": null,
      "outputs": [
        {
          "output_type": "stream",
          "name": "stdout",
          "text": [
            "5\n"
          ]
        }
      ]
    },
    {
      "cell_type": "code",
      "source": [
        "x = 5\n",
        "x ^= 3\n",
        "print(x)\n"
      ],
      "metadata": {
        "colab": {
          "base_uri": "https://localhost:8080/"
        },
        "id": "MpkjjRYAaw-9",
        "outputId": "e9022d94-26db-4b25-8b98-5a4a6646cc86"
      },
      "execution_count": null,
      "outputs": [
        {
          "output_type": "stream",
          "name": "stdout",
          "text": [
            "6\n"
          ]
        }
      ]
    },
    {
      "cell_type": "code",
      "source": [
        "x = 5\n",
        "y = 5\n",
        "print(x == 5)"
      ],
      "metadata": {
        "colab": {
          "base_uri": "https://localhost:8080/"
        },
        "id": "rORs2fNocQKw",
        "outputId": "6a919c63-b6fe-4472-8e09-106fca0769bc"
      },
      "execution_count": null,
      "outputs": [
        {
          "output_type": "stream",
          "name": "stdout",
          "text": [
            "True\n"
          ]
        }
      ]
    },
    {
      "cell_type": "code",
      "source": [
        "# LOGICAL OPERATOR\n",
        "x = 10\n",
        "y = 20\n",
        "print(x and y)\n",
        "print(x or y)\n",
        "print([] and \"HI\")\n",
        "print([] or \"HI\")"
      ],
      "metadata": {
        "colab": {
          "base_uri": "https://localhost:8080/"
        },
        "id": "e5xYPhvbdv_e",
        "outputId": "18b2e7b4-1ed0-4131-eb20-0a2c3b405ce8"
      },
      "execution_count": null,
      "outputs": [
        {
          "output_type": "stream",
          "name": "stdout",
          "text": [
            "20\n",
            "10\n",
            "[]\n",
            "HI\n"
          ]
        }
      ]
    },
    {
      "cell_type": "code",
      "source": [
        "a = \"NITIKA\"\n",
        "for i in a :\n",
        "  print(i)\n",
        "  i.lower()\n",
        "\n",
        "print()\n",
        "\n",
        "a = \"NITIKA\"\n",
        "for i in a :\n",
        "  print(i)\n",
        "  print(i.lower())\n",
        "\n",
        "\n",
        "a = \"NITIKA\"\n",
        "for i in a :\n",
        "  i.lower() # original string will not be changed because string are immutable\n",
        "\n",
        "\n"
      ],
      "metadata": {
        "colab": {
          "base_uri": "https://localhost:8080/"
        },
        "id": "NYOKxoDcR8FJ",
        "outputId": "be56fa6d-7ca0-4f4a-c948-995e8656d997"
      },
      "execution_count": null,
      "outputs": [
        {
          "output_type": "stream",
          "name": "stdout",
          "text": [
            "N\n",
            "I\n",
            "T\n",
            "I\n",
            "K\n",
            "A\n",
            "\n",
            "N\n",
            "n\n",
            "I\n",
            "i\n",
            "T\n",
            "t\n",
            "I\n",
            "i\n",
            "K\n",
            "k\n",
            "A\n",
            "a\n"
          ]
        }
      ]
    },
    {
      "cell_type": "markdown",
      "source": [
        "is and not is identity operator"
      ],
      "metadata": {
        "id": "k_3DotUUTeZH"
      }
    },
    {
      "cell_type": "code",
      "source": [
        "avg = [\"Thor\", \"Hulk\"]\n",
        "avg1 = avg\n",
        "print(avg is avg1)\n",
        "print(avg is not avg1)"
      ],
      "metadata": {
        "colab": {
          "base_uri": "https://localhost:8080/"
        },
        "id": "Q5eT9hrsToLp",
        "outputId": "ba6029c0-4e6a-451f-995c-36f1bad89645"
      },
      "execution_count": null,
      "outputs": [
        {
          "output_type": "stream",
          "name": "stdout",
          "text": [
            "True\n",
            "False\n"
          ]
        }
      ]
    },
    {
      "cell_type": "code",
      "source": [
        "x = 258\n",
        "y = 258\n",
        "\n",
        "print(x is y) # memory location is not same => FALSE\n",
        "# -5 to 256 is will TRUE after 256 sometimes FALSE\n",
        "\n",
        "a = 256\n",
        "b = 256\n",
        "print(a is b)\n",
        "\n",
        "print(x is not y)\n",
        "\n",
        "\n",
        "print(x == y) # Values are same => TRUE"
      ],
      "metadata": {
        "colab": {
          "base_uri": "https://localhost:8080/"
        },
        "id": "CZTesgywT7P7",
        "outputId": "a02c42e2-e777-43e1-abec-8a8ba123cc36"
      },
      "execution_count": null,
      "outputs": [
        {
          "output_type": "stream",
          "name": "stdout",
          "text": [
            "False\n",
            "True\n",
            "True\n",
            "True\n"
          ]
        }
      ]
    },
    {
      "cell_type": "code",
      "source": [
        "x = [\"mango\", \"apple\", \"banana\"]\n",
        "y = [\"mango\", \"apple\", \"banana\"]\n",
        "z = x\n",
        "\n",
        "print(x is not z)\n",
        "print(x != y)\n",
        "print(x == y)"
      ],
      "metadata": {
        "colab": {
          "base_uri": "https://localhost:8080/"
        },
        "id": "CSnh-sKsUU9M",
        "outputId": "0d958ac4-4cec-4b17-e27c-8ee46e7fcb1e"
      },
      "execution_count": null,
      "outputs": [
        {
          "output_type": "stream",
          "name": "stdout",
          "text": [
            "False\n",
            "False\n",
            "True\n"
          ]
        }
      ]
    },
    {
      "cell_type": "markdown",
      "source": [
        "# MEMBERSHIP OPERATOR"
      ],
      "metadata": {
        "id": "TwceaiAPWVKo"
      }
    },
    {
      "cell_type": "code",
      "source": [
        "a = \"banana\"\n",
        "print(\"nana\" in a)\n",
        "print(\"apple\" in a)\n",
        "print(\"apple\" not in a)"
      ],
      "metadata": {
        "colab": {
          "base_uri": "https://localhost:8080/"
        },
        "id": "56sFTS22WYPw",
        "outputId": "ef1e9016-d4f4-47e8-f404-d4768ad0ac26"
      },
      "execution_count": null,
      "outputs": [
        {
          "output_type": "stream",
          "name": "stdout",
          "text": [
            "True\n",
            "False\n",
            "True\n"
          ]
        }
      ]
    },
    {
      "cell_type": "markdown",
      "source": [
        "Check if a Given String only contains vowels"
      ],
      "metadata": {
        "id": "HN3MUYCyW8aA"
      }
    },
    {
      "cell_type": "code",
      "source": [
        "# s = \"aeiou\"\n",
        "\n",
        "# x = \"aoieu\"\n",
        "\n",
        "# if sorted(s) == sorted(x):\n",
        "#   print(\"yes\")\n",
        "# else:\n",
        "#   print(\"no\")\n",
        "\n",
        "\n",
        "s = \"aeiooue\"\n",
        "\n",
        "vowel = \"aeiou\"\n",
        "\n",
        "flag = 0\n",
        "\n",
        "for i in s:\n",
        "  if i not in vowel:\n",
        "    flag = 1\n",
        "if flag == 1:\n",
        "  print(\"FALSE\")\n",
        "else :\n",
        "  print(\"TRUE\")\n"
      ],
      "metadata": {
        "colab": {
          "base_uri": "https://localhost:8080/"
        },
        "id": "X8sBOQKiXA96",
        "outputId": "b0057ffa-85b7-4825-b913-8f4f4b4f2e37"
      },
      "execution_count": null,
      "outputs": [
        {
          "output_type": "stream",
          "name": "stdout",
          "text": [
            "TRUE\n"
          ]
        }
      ]
    },
    {
      "cell_type": "markdown",
      "source": [
        "Assignment operator have lowest precidence"
      ],
      "metadata": {
        "id": "8sdTSFxve48A"
      }
    },
    {
      "cell_type": "markdown",
      "metadata": {
        "id": "66c6d960"
      },
      "source": [
        "The Infinity Stones are:\n",
        "\n",
        "*   Space Stone (Blue)\n",
        "*   Reality Stone (Red)\n",
        "*   Power Stone (Purple)\n",
        "*   Mind Stone (Yellow)\n",
        "*   Time Stone (Green)\n",
        "*   Soul Stone (Orange)"
      ]
    },
    {
      "cell_type": "code",
      "metadata": {
        "colab": {
          "base_uri": "https://localhost:8080/"
        },
        "id": "fd2c978f",
        "outputId": "068b106b-2d21-4572-f9d1-4ea807443fde"
      },
      "source": [
        "infinity_stones = [\"Space Stone\", \"Reality Stone\", \"Power Stone\", \"Mind Stone\", \"Time Stone\", \"Soul Stone\", \"Reality Stone\", \"Power Stone\", \"Mind Stone\", \"Time Stone\", \"Soul Stone\"]\n",
        "print(infinity_stones)\n",
        "\n",
        "# array can have same values multiple times"
      ],
      "execution_count": null,
      "outputs": [
        {
          "output_type": "stream",
          "name": "stdout",
          "text": [
            "['Space Stone', 'Reality Stone', 'Power Stone', 'Mind Stone', 'Time Stone', 'Soul Stone', 'Reality Stone', 'Power Stone', 'Mind Stone', 'Time Stone', 'Soul Stone']\n"
          ]
        }
      ]
    },
    {
      "cell_type": "code",
      "source": [],
      "metadata": {
        "id": "jY8j_CNRcxzG"
      },
      "execution_count": null,
      "outputs": []
    },
    {
      "cell_type": "markdown",
      "source": [
        "When we use while and do while loop"
      ],
      "metadata": {
        "id": "JeJTQ54Ue2hV"
      }
    },
    {
      "cell_type": "markdown",
      "source": [
        "#LOOPING"
      ],
      "metadata": {
        "id": "9j80eeUhbih7"
      }
    },
    {
      "cell_type": "markdown",
      "source": [],
      "metadata": {
        "id": "8jOg6WJpbkyd"
      }
    },
    {
      "cell_type": "code",
      "source": [
        "hero = [\"ironman\", \"hulk\", \"captianamerica\"]\n",
        "\n",
        "for i in hero:\n",
        "  print(i)\n",
        "\n",
        "for i in range(len(hero)):\n",
        "  print(i, hero[i])\n",
        "\n",
        "i = 0\n",
        "while(i<len(hero)):\n",
        "  print(i, hero[i])\n",
        "  i+=1\n",
        "\n",
        "#List Comprehensing\n",
        "[print(i) for i in hero]"
      ],
      "metadata": {
        "colab": {
          "base_uri": "https://localhost:8080/"
        },
        "id": "hsIj5AjJbsDB",
        "outputId": "60bbb209-6afe-4436-9178-b598c15252e8"
      },
      "execution_count": null,
      "outputs": [
        {
          "output_type": "stream",
          "name": "stdout",
          "text": [
            "ironman\n",
            "hulk\n",
            "captianamerica\n",
            "0 ironman\n",
            "1 hulk\n",
            "2 captianamerica\n",
            "0 ironman\n",
            "1 hulk\n",
            "2 captianamerica\n",
            "ironman\n",
            "hulk\n",
            "captianamerica\n"
          ]
        },
        {
          "output_type": "execute_result",
          "data": {
            "text/plain": [
              "[None, None, None]"
            ]
          },
          "metadata": {},
          "execution_count": 5
        }
      ]
    },
    {
      "cell_type": "markdown",
      "source": [
        "You need to filterout the name of the avenger that consists or contain \"America\" as substirng"
      ],
      "metadata": {
        "id": "mnhR-vJZdfMX"
      }
    },
    {
      "cell_type": "code",
      "source": [
        "hero = [\"ironman\", \"hulk\", \"captianamerica\"]\n",
        "\n",
        "new_list = [ i for i in hero if \"America\" in i ]\n",
        "print(new_list)"
      ],
      "metadata": {
        "colab": {
          "base_uri": "https://localhost:8080/"
        },
        "id": "1jWTClAJdnDK",
        "outputId": "1bbf10c5-9821-455f-9206-a29a969f1093"
      },
      "execution_count": null,
      "outputs": [
        {
          "output_type": "stream",
          "name": "stdout",
          "text": [
            "[]\n"
          ]
        }
      ]
    },
    {
      "cell_type": "markdown",
      "source": [
        "Replace hulk with calm_guy"
      ],
      "metadata": {
        "id": "6dF85hLjeihi"
      }
    },
    {
      "cell_type": "code",
      "source": [
        "hero = [\"ironman\", \"hulk\", \"captianamerica\"]\n",
        "\n",
        "# Find the index of \"hulk\" and replace it with \"calm_guy\"\n",
        "try:\n",
        "  index_hulk = hero.index(\"hulk\")\n",
        "  hero[index_hulk] = \"calm_guy\"\n",
        "  print(hero)\n",
        "except ValueError:\n",
        "  print(\"Hulk not found in the list.\")\n",
        "\n",
        "# One liner code\n",
        "new_list = [i.replace(\"hulk\", \"calm_guy\") if \"hulk\" in i else i for i in hero]\n",
        "print(new_list)\n",
        "\n",
        "a = [\"calm_guy\" if i == \"hulk\" else i for i in hero]\n",
        "print(a)"
      ],
      "metadata": {
        "colab": {
          "base_uri": "https://localhost:8080/"
        },
        "id": "gG5tQHYCem48",
        "outputId": "82782a78-c187-451d-a4b1-2e2cecd23f76"
      },
      "execution_count": null,
      "outputs": [
        {
          "output_type": "stream",
          "name": "stdout",
          "text": [
            "['ironman', 'calm_guy', 'captianamerica']\n",
            "['ironman', 'calm_guy', 'captianamerica']\n",
            "['ironman', 'calm_guy', 'captianamerica']\n"
          ]
        }
      ]
    },
    {
      "cell_type": "markdown",
      "source": [
        "Make a Characters in the list to uppercase"
      ],
      "metadata": {
        "id": "zI65OiqLgmw3"
      }
    },
    {
      "cell_type": "code",
      "source": [
        "hero = [\"ironman\", \"hulk\", \"captianamerica\"]\n",
        "\n",
        "new_list = [i.upper() for i in hero]\n",
        "print(new_list)\n",
        "\n",
        "# another method to print the list\n",
        "print([x for x in range(len(hero))])"
      ],
      "metadata": {
        "colab": {
          "base_uri": "https://localhost:8080/"
        },
        "id": "yIcsWV3GgrQH",
        "outputId": "847a7bb2-da80-415e-c013-ba9eafbb8acb"
      },
      "execution_count": null,
      "outputs": [
        {
          "metadata": {
            "tags": null
          },
          "name": "stdout",
          "output_type": "stream",
          "text": [
            "['IRONMAN', 'HULK', 'CAPTIANAMERICA']\n"
          ]
        }
      ]
    },
    {
      "cell_type": "markdown",
      "source": [
        "Create a list that only contain prime number"
      ],
      "metadata": {
        "id": "gqxY3W0hhsMa"
      }
    },
    {
      "cell_type": "code",
      "source": [
        "def is_prime(num):\n",
        "  \"\"\"Checks if a number is prime.\"\"\"\n",
        "  if num <= 1:\n",
        "    return False\n",
        "  for i in range(2, int(num**0.5) + 1):\n",
        "    if num % i == 0:\n",
        "      return False\n",
        "  return True\n",
        "\n",
        "# Create a list of prime numbers up to a certain limit (e.g., 20)\n",
        "prime_numbers = [num for num in range(2, 21) if is_prime(num)]\n",
        "print(prime_numbers)"
      ],
      "metadata": {
        "id": "AT3irTIhhvVO"
      },
      "execution_count": null,
      "outputs": []
    },
    {
      "cell_type": "code",
      "source": [],
      "metadata": {
        "id": "HxhISTHgkXJB"
      },
      "execution_count": null,
      "outputs": []
    },
    {
      "cell_type": "markdown",
      "source": [
        "Create a list that contain only binary numbers"
      ],
      "metadata": {
        "id": "p-LX552ujDxR"
      }
    },
    {
      "cell_type": "code",
      "source": [],
      "metadata": {
        "id": "SHz3GY5zjHym"
      },
      "execution_count": null,
      "outputs": []
    },
    {
      "cell_type": "markdown",
      "source": [
        "# MULTIDIMENTIONAL LIST\n"
      ],
      "metadata": {
        "id": "LiudNIQCfrrc"
      }
    },
    {
      "cell_type": "code",
      "source": [],
      "metadata": {
        "id": "Ve9AeuCLfyf5"
      },
      "execution_count": null,
      "outputs": []
    },
    {
      "cell_type": "markdown",
      "source": [
        "# USER INPUT\n"
      ],
      "metadata": {
        "id": "K0U77AjJjgzI"
      }
    },
    {
      "cell_type": "code",
      "source": [
        "friends = []\n",
        "while(True) :\n",
        "  friend = input(\"Enter friend name :\")\n",
        "  friends.append(friend)\n",
        "  print(friends)\n"
      ],
      "metadata": {
        "colab": {
          "base_uri": "https://localhost:8080/",
          "height": 512
        },
        "id": "GM5AVn3fjisZ",
        "outputId": "3f21581f-2761-4b23-b82f-2baff2954660"
      },
      "execution_count": null,
      "outputs": [
        {
          "output_type": "stream",
          "name": "stdout",
          "text": [
            "Enter friend name :mohit\n",
            "['mohit']\n",
            "Enter friend name :amarjeet\n",
            "['mohit', 'amarjeet']\n",
            "Enter friend name :satyam\n",
            "['mohit', 'amarjeet', 'satyam']\n",
            "Enter friend name :rishabh\n",
            "['mohit', 'amarjeet', 'satyam', 'rishabh']\n"
          ]
        },
        {
          "output_type": "error",
          "ename": "KeyboardInterrupt",
          "evalue": "Interrupted by user",
          "traceback": [
            "\u001b[0;31m---------------------------------------------------------------------------\u001b[0m",
            "\u001b[0;31mKeyboardInterrupt\u001b[0m                         Traceback (most recent call last)",
            "\u001b[0;32m/tmp/ipython-input-2792215428.py\u001b[0m in \u001b[0;36m<cell line: 0>\u001b[0;34m()\u001b[0m\n\u001b[1;32m      1\u001b[0m \u001b[0mfriends\u001b[0m \u001b[0;34m=\u001b[0m \u001b[0;34m[\u001b[0m\u001b[0;34m]\u001b[0m\u001b[0;34m\u001b[0m\u001b[0;34m\u001b[0m\u001b[0m\n\u001b[1;32m      2\u001b[0m \u001b[0;32mwhile\u001b[0m\u001b[0;34m(\u001b[0m\u001b[0;32mTrue\u001b[0m\u001b[0;34m)\u001b[0m \u001b[0;34m:\u001b[0m\u001b[0;34m\u001b[0m\u001b[0;34m\u001b[0m\u001b[0m\n\u001b[0;32m----> 3\u001b[0;31m   \u001b[0mfriend\u001b[0m \u001b[0;34m=\u001b[0m \u001b[0minput\u001b[0m\u001b[0;34m(\u001b[0m\u001b[0;34m\"Enter friend name :\"\u001b[0m\u001b[0;34m)\u001b[0m\u001b[0;34m\u001b[0m\u001b[0;34m\u001b[0m\u001b[0m\n\u001b[0m\u001b[1;32m      4\u001b[0m   \u001b[0mfriends\u001b[0m\u001b[0;34m.\u001b[0m\u001b[0mappend\u001b[0m\u001b[0;34m(\u001b[0m\u001b[0mfriend\u001b[0m\u001b[0;34m)\u001b[0m\u001b[0;34m\u001b[0m\u001b[0;34m\u001b[0m\u001b[0m\n\u001b[1;32m      5\u001b[0m   \u001b[0mprint\u001b[0m\u001b[0;34m(\u001b[0m\u001b[0mfriends\u001b[0m\u001b[0;34m)\u001b[0m\u001b[0;34m\u001b[0m\u001b[0;34m\u001b[0m\u001b[0m\n",
            "\u001b[0;32m/usr/local/lib/python3.12/dist-packages/ipykernel/kernelbase.py\u001b[0m in \u001b[0;36mraw_input\u001b[0;34m(self, prompt)\u001b[0m\n\u001b[1;32m   1175\u001b[0m                 \u001b[0;34m\"raw_input was called, but this frontend does not support input requests.\"\u001b[0m\u001b[0;34m\u001b[0m\u001b[0;34m\u001b[0m\u001b[0m\n\u001b[1;32m   1176\u001b[0m             )\n\u001b[0;32m-> 1177\u001b[0;31m         return self._input_request(\n\u001b[0m\u001b[1;32m   1178\u001b[0m             \u001b[0mstr\u001b[0m\u001b[0;34m(\u001b[0m\u001b[0mprompt\u001b[0m\u001b[0;34m)\u001b[0m\u001b[0;34m,\u001b[0m\u001b[0;34m\u001b[0m\u001b[0;34m\u001b[0m\u001b[0m\n\u001b[1;32m   1179\u001b[0m             \u001b[0mself\u001b[0m\u001b[0;34m.\u001b[0m\u001b[0m_parent_ident\u001b[0m\u001b[0;34m[\u001b[0m\u001b[0;34m\"shell\"\u001b[0m\u001b[0;34m]\u001b[0m\u001b[0;34m,\u001b[0m\u001b[0;34m\u001b[0m\u001b[0;34m\u001b[0m\u001b[0m\n",
            "\u001b[0;32m/usr/local/lib/python3.12/dist-packages/ipykernel/kernelbase.py\u001b[0m in \u001b[0;36m_input_request\u001b[0;34m(self, prompt, ident, parent, password)\u001b[0m\n\u001b[1;32m   1217\u001b[0m             \u001b[0;32mexcept\u001b[0m \u001b[0mKeyboardInterrupt\u001b[0m\u001b[0;34m:\u001b[0m\u001b[0;34m\u001b[0m\u001b[0;34m\u001b[0m\u001b[0m\n\u001b[1;32m   1218\u001b[0m                 \u001b[0;31m# re-raise KeyboardInterrupt, to truncate traceback\u001b[0m\u001b[0;34m\u001b[0m\u001b[0;34m\u001b[0m\u001b[0m\n\u001b[0;32m-> 1219\u001b[0;31m                 \u001b[0;32mraise\u001b[0m \u001b[0mKeyboardInterrupt\u001b[0m\u001b[0;34m(\u001b[0m\u001b[0;34m\"Interrupted by user\"\u001b[0m\u001b[0;34m)\u001b[0m \u001b[0;32mfrom\u001b[0m \u001b[0;32mNone\u001b[0m\u001b[0;34m\u001b[0m\u001b[0;34m\u001b[0m\u001b[0m\n\u001b[0m\u001b[1;32m   1220\u001b[0m             \u001b[0;32mexcept\u001b[0m \u001b[0mException\u001b[0m\u001b[0;34m:\u001b[0m\u001b[0;34m\u001b[0m\u001b[0;34m\u001b[0m\u001b[0m\n\u001b[1;32m   1221\u001b[0m                 \u001b[0mself\u001b[0m\u001b[0;34m.\u001b[0m\u001b[0mlog\u001b[0m\u001b[0;34m.\u001b[0m\u001b[0mwarning\u001b[0m\u001b[0;34m(\u001b[0m\u001b[0;34m\"Invalid Message:\"\u001b[0m\u001b[0;34m,\u001b[0m \u001b[0mexc_info\u001b[0m\u001b[0;34m=\u001b[0m\u001b[0;32mTrue\u001b[0m\u001b[0;34m)\u001b[0m\u001b[0;34m\u001b[0m\u001b[0;34m\u001b[0m\u001b[0m\n",
            "\u001b[0;31mKeyboardInterrupt\u001b[0m: Interrupted by user"
          ]
        }
      ]
    },
    {
      "cell_type": "code",
      "source": [
        "friends = []\n",
        "n = int(input(\"Enter the no. of friends :\"))\n",
        "for i in range(n):\n",
        "  friend = input(\"Enter friend name :\")\n",
        "  friends.append(friend)\n",
        "print(friends)"
      ],
      "metadata": {
        "colab": {
          "base_uri": "https://localhost:8080/"
        },
        "id": "-1CcHeAMk2W-",
        "outputId": "6be51520-2d89-42bd-ed39-20e579624dfc"
      },
      "execution_count": null,
      "outputs": [
        {
          "output_type": "stream",
          "name": "stdout",
          "text": [
            "Enter the no. of friends :4\n",
            "Enter friend name :rishabh\n",
            "Enter friend name :satyam\n",
            "Enter friend name :anurag\n",
            "Enter friend name :amarjeet\n",
            "['rishabh', 'satyam', 'anurag', 'amarjeet']\n"
          ]
        }
      ]
    },
    {
      "cell_type": "code",
      "source": [
        "nums = []\n",
        "for i in range(3):\n",
        "    num = input(\"Enter a number: \")\n",
        "    nums.append(num)\n",
        "\n",
        "print(nums)          # full list\n",
        "print(nums[0])       # first element\n",
        "print(type(nums))    # type of nums\n",
        "print(type(nums[0])) # type of first element\n",
        "\n",
        "nums.remove(60)      # will work if 60 was entered\n",
        "print(nums)\n"
      ],
      "metadata": {
        "colab": {
          "base_uri": "https://localhost:8080/",
          "height": 228
        },
        "id": "BoZI8VUBlR6z",
        "outputId": "54c529ea-fc99-406b-c6c8-466a164f3727"
      },
      "execution_count": null,
      "outputs": [
        {
          "name": "stdout",
          "output_type": "stream",
          "text": [
            "Enter a number: 70 60 80\n"
          ]
        },
        {
          "output_type": "error",
          "ename": "ValueError",
          "evalue": "invalid literal for int() with base 10: '70 60 80'",
          "traceback": [
            "\u001b[0;31m---------------------------------------------------------------------------\u001b[0m",
            "\u001b[0;31mValueError\u001b[0m                                Traceback (most recent call last)",
            "\u001b[0;32m/tmp/ipython-input-3318620026.py\u001b[0m in \u001b[0;36m<cell line: 0>\u001b[0;34m()\u001b[0m\n\u001b[1;32m      1\u001b[0m \u001b[0mnums\u001b[0m \u001b[0;34m=\u001b[0m \u001b[0;34m[\u001b[0m\u001b[0;34m]\u001b[0m\u001b[0;34m\u001b[0m\u001b[0;34m\u001b[0m\u001b[0m\n\u001b[1;32m      2\u001b[0m \u001b[0;32mfor\u001b[0m \u001b[0mi\u001b[0m \u001b[0;32min\u001b[0m \u001b[0mrange\u001b[0m\u001b[0;34m(\u001b[0m\u001b[0;36m3\u001b[0m\u001b[0;34m)\u001b[0m\u001b[0;34m:\u001b[0m\u001b[0;34m\u001b[0m\u001b[0;34m\u001b[0m\u001b[0m\n\u001b[0;32m----> 3\u001b[0;31m     \u001b[0mnum\u001b[0m \u001b[0;34m=\u001b[0m \u001b[0mint\u001b[0m\u001b[0;34m(\u001b[0m\u001b[0minput\u001b[0m\u001b[0;34m(\u001b[0m\u001b[0;34m\"Enter a number: \"\u001b[0m\u001b[0;34m)\u001b[0m\u001b[0;34m)\u001b[0m\u001b[0;34m\u001b[0m\u001b[0;34m\u001b[0m\u001b[0m\n\u001b[0m\u001b[1;32m      4\u001b[0m     \u001b[0mnums\u001b[0m\u001b[0;34m.\u001b[0m\u001b[0mappend\u001b[0m\u001b[0;34m(\u001b[0m\u001b[0mnum\u001b[0m\u001b[0;34m)\u001b[0m\u001b[0;34m\u001b[0m\u001b[0;34m\u001b[0m\u001b[0m\n\u001b[1;32m      5\u001b[0m \u001b[0;34m\u001b[0m\u001b[0m\n",
            "\u001b[0;31mValueError\u001b[0m: invalid literal for int() with base 10: '70 60 80'"
          ]
        }
      ]
    },
    {
      "cell_type": "code",
      "source": [
        "# .clear() will clear the list\n",
        "# .pop() will\n",
        "# .del()"
      ],
      "metadata": {
        "id": "dh2k3IwnpU2d"
      },
      "execution_count": null,
      "outputs": []
    },
    {
      "cell_type": "markdown",
      "source": [],
      "metadata": {
        "id": "T8BwLHmPpUiZ"
      }
    },
    {
      "cell_type": "code",
      "source": [
        "lst = [[1, 2],\n",
        "       [3, 4],\n",
        "       [5, 6]]\n",
        "\n",
        "flat = [num for row in lst for num in row]\n",
        "print(flat)\n"
      ],
      "metadata": {
        "colab": {
          "base_uri": "https://localhost:8080/"
        },
        "id": "RSm3TqS6rvhT",
        "outputId": "d8e1e356-c55b-44ed-e95c-d68dcc59f72d"
      },
      "execution_count": null,
      "outputs": [
        {
          "output_type": "stream",
          "name": "stdout",
          "text": [
            "[1, 2, 3, 4, 5, 6]\n"
          ]
        }
      ]
    },
    {
      "cell_type": "code",
      "source": [
        "cars = [\"Audi\", \"BMW\", \"Mercedes\"]\n",
        "colors = [\"Red\", \"Black\", \"White\"]\n",
        "\n",
        "print([(car, color) for c in car for color in colors])"
      ],
      "metadata": {
        "colab": {
          "base_uri": "https://localhost:8080/"
        },
        "id": "9DNH_LJ4tAcw",
        "outputId": "bdb9080d-6903-48a6-dda0-d989a79f14fe"
      },
      "execution_count": null,
      "outputs": [
        {
          "output_type": "stream",
          "name": "stdout",
          "text": [
            "[('Mercedes', 'Red'), ('Mercedes', 'Black'), ('Mercedes', 'White'), ('Mercedes', 'Red'), ('Mercedes', 'Black'), ('Mercedes', 'White'), ('Mercedes', 'Red'), ('Mercedes', 'Black'), ('Mercedes', 'White'), ('Mercedes', 'Red'), ('Mercedes', 'Black'), ('Mercedes', 'White'), ('Mercedes', 'Red'), ('Mercedes', 'Black'), ('Mercedes', 'White'), ('Mercedes', 'Red'), ('Mercedes', 'Black'), ('Mercedes', 'White'), ('Mercedes', 'Red'), ('Mercedes', 'Black'), ('Mercedes', 'White'), ('Mercedes', 'Red'), ('Mercedes', 'Black'), ('Mercedes', 'White')]\n"
          ]
        }
      ]
    },
    {
      "cell_type": "code",
      "source": [
        "no = [1, 2, 3, 4, 5, 6]\n",
        "no[2:] = [10]\n",
        "print(no)"
      ],
      "metadata": {
        "colab": {
          "base_uri": "https://localhost:8080/"
        },
        "id": "hXLdWOUMuRWc",
        "outputId": "0436f28b-d3c4-447b-81bb-39c75e0e1dcb"
      },
      "execution_count": null,
      "outputs": [
        {
          "output_type": "stream",
          "name": "stdout",
          "text": [
            "[1, 2, 10]\n"
          ]
        }
      ]
    },
    {
      "cell_type": "markdown",
      "source": [
        "Find the missing number using gauss summation"
      ],
      "metadata": {
        "id": "yyEtwFqauyMc"
      }
    },
    {
      "cell_type": "markdown",
      "source": [
        "Make a list of numbers and filterout the even numbers"
      ],
      "metadata": {
        "id": "9iDVbHSHFgZC"
      }
    },
    {
      "cell_type": "code",
      "source": [
        "L = [1, 2, 4, 5, 6, 7, 10, 56, 3, 45, 56, 7, 102, 45]\n",
        "\n",
        "print([i for i in L if i % 2 == 0])"
      ],
      "metadata": {
        "colab": {
          "base_uri": "https://localhost:8080/"
        },
        "id": "EIoyahKPFfrO",
        "outputId": "6b166209-e761-4b54-a1bf-6b514151804d"
      },
      "execution_count": 2,
      "outputs": [
        {
          "output_type": "stream",
          "name": "stdout",
          "text": [
            "[2, 4, 6, 10, 56, 56, 102]\n"
          ]
        }
      ]
    },
    {
      "cell_type": "markdown",
      "source": [
        "make all letter capital in a list"
      ],
      "metadata": {
        "id": "vsrBvfB7GSSH"
      }
    },
    {
      "cell_type": "code",
      "source": [
        "l = [\"apple\", \"orange\"]\n",
        "print([x.upper() for x in l ])"
      ],
      "metadata": {
        "colab": {
          "base_uri": "https://localhost:8080/"
        },
        "id": "w0zRdpxlGUmA",
        "outputId": "a46e7390-69af-45f4-a866-ccbe4711063d"
      },
      "execution_count": 5,
      "outputs": [
        {
          "output_type": "stream",
          "name": "stdout",
          "text": [
            "['APPLE', 'ORANGE']\n"
          ]
        }
      ]
    },
    {
      "cell_type": "markdown",
      "source": [
        "Flatten a nested list"
      ],
      "metadata": {
        "id": "A6rFRo2CG5FD"
      }
    },
    {
      "cell_type": "code",
      "source": [
        "l = [[1, 2, 3],\n",
        "     [4, 5, 6],\n",
        "     [7, 8, 9]]\n",
        "\n",
        "print(\"flatten list :\", [x for i in l for x in i])"
      ],
      "metadata": {
        "colab": {
          "base_uri": "https://localhost:8080/"
        },
        "id": "Qt-J-19XG7ea",
        "outputId": "11fa803a-9d4f-470c-b3fd-f5abecbc99b1"
      },
      "execution_count": 8,
      "outputs": [
        {
          "output_type": "stream",
          "name": "stdout",
          "text": [
            "flatten list : [1, 2, 3, 4, 5, 6, 7, 8, 9]\n"
          ]
        }
      ]
    },
    {
      "cell_type": "markdown",
      "source": [
        "You are having two list,\n",
        "one list contain name of boys and other contains girls, make a dating app to combine the boys-girls\n"
      ],
      "metadata": {
        "id": "GKpbKMdmHej3"
      }
    },
    {
      "cell_type": "code",
      "source": [
        "boys = [\"B1\", \"B2\", \"B3\"]\n",
        "girls = [\"G1\", \"G2\", \"G3\"]\n",
        "\n",
        "date = []"
      ],
      "metadata": {
        "colab": {
          "base_uri": "https://localhost:8080/"
        },
        "id": "kZchAP6RIYol",
        "outputId": "96a3e7db-7eb7-45e7-e954-1c368ec205ea"
      },
      "execution_count": 12,
      "outputs": [
        {
          "output_type": "stream",
          "name": "stdout",
          "text": [
            "[('B1', 'G1'), ('B2', 'G2'), ('B3', 'G3')]\n"
          ]
        }
      ]
    },
    {
      "cell_type": "code",
      "source": [
        "cars = {\n",
        "    \"brand\": \"Ford\",\n",
        "    \"model\": \"Mustang\",\n",
        "}\n",
        "\n",
        "cars['model'] = 'z2025'\n",
        "# print(cars)\n",
        "\n",
        "# print(cars[\"brand\"])\n",
        "\n",
        "x = cars.get('mode', 'you have entered a wrong key')\n",
        "# print(len(cars))\n",
        "# x = cars.pop('model')\n",
        "# x = cars.pop('Ford')\n",
        "x = cars.popitem()\n",
        "# cars.clear()\n",
        "# print(x)\n",
        "# del cars['brand']\n",
        "# print(cars)\n",
        "\n",
        "# print(x)\n",
        "car_copy = cars.copy()\n",
        "print(car_copy)\n",
        "print(id(cars))\n",
        "print(id(car_copy))\n",
        "car_copy['color'] = 'blue'\n",
        "\n",
        "\"\"\"\n",
        "Assignment operator doesnot work for mutable,\n",
        "when you want to copy a data in new variable, then use copy\n",
        "\"\"\"\n",
        "\n",
        "print(cars)\n",
        "print(car_copy)\n"
      ],
      "metadata": {
        "colab": {
          "base_uri": "https://localhost:8080/"
        },
        "id": "L-cZLNpmJQ9m",
        "outputId": "de9d9eb6-2800-4e8e-f720-a21b1f5f7221"
      },
      "execution_count": 18,
      "outputs": [
        {
          "output_type": "stream",
          "name": "stdout",
          "text": [
            "{'brand': 'Ford'}\n",
            "132874646263040\n",
            "132874255713344\n",
            "{'brand': 'Ford'}\n",
            "{'brand': 'Ford', 'color': 'blue'}\n"
          ]
        }
      ]
    },
    {
      "cell_type": "code",
      "source": [
        "car = {\n",
        "    \"brand\": \"Ford\",\n",
        "    \"model\": \"Mustang\",\n",
        "}\n",
        "\n",
        "for x in car:\n",
        "  # print(x)\n",
        "  print(f\"{x} : {car[x]}\")\n",
        "  print(x, car[x])\n",
        "\n",
        "for k, v in car.items():\n",
        "  print(k, v)\n",
        "\n",
        "print({(k, v) for k, v in car.items()}) # dictionary comprehension"
      ],
      "metadata": {
        "colab": {
          "base_uri": "https://localhost:8080/"
        },
        "id": "HS0ERWjmJXxg",
        "outputId": "742d71d1-9c5d-4100-abe6-b6679b176e03"
      },
      "execution_count": 28,
      "outputs": [
        {
          "output_type": "stream",
          "name": "stdout",
          "text": [
            "brand : Ford\n",
            "brand Ford\n",
            "model : Mustang\n",
            "model Mustang\n",
            "brand Ford\n",
            "model Mustang\n",
            "{('brand', 'Ford'), ('model', 'Mustang')}\n"
          ]
        }
      ]
    },
    {
      "cell_type": "code",
      "source": [
        "fruits = ['apple', 'apple', 'banana', 'orange']\n",
        "count = {}\n",
        "for fruit in fruits:\n",
        "    if fruit in count:\n",
        "        count[fruit] += 1\n",
        "    else:\n",
        "        count[fruit] = 1\n",
        "print(count)\n"
      ],
      "metadata": {
        "colab": {
          "base_uri": "https://localhost:8080/"
        },
        "id": "MCNl8hoMPbpM",
        "outputId": "765ef431-d9f7-4517-a48b-3b2913e1367c"
      },
      "execution_count": 27,
      "outputs": [
        {
          "output_type": "stream",
          "name": "stdout",
          "text": [
            "{'apple': 2, 'banana': 1, 'orange': 1}\n"
          ]
        }
      ]
    },
    {
      "cell_type": "code",
      "source": [
        "fruits = ['apple', 'apple', 'banana', 'orange']\n",
        "count = {}\n",
        "for fruit in fruits:\n",
        "    count[fruit] = count.get(fruit, 0) + 1\n",
        "print(count)\n"
      ],
      "metadata": {
        "colab": {
          "base_uri": "https://localhost:8080/"
        },
        "id": "n-BiR8ySQipN",
        "outputId": "cff1d0fc-5dc4-4a0d-f0bd-a31046c2e93c"
      },
      "execution_count": 30,
      "outputs": [
        {
          "output_type": "stream",
          "name": "stdout",
          "text": [
            "{'apple': 2, 'banana': 1, 'orange': 1}\n"
          ]
        }
      ]
    },
    {
      "cell_type": "markdown",
      "source": [
        "#Nested Dictionary"
      ],
      "metadata": {
        "id": "RQljUfj8Kzuw"
      }
    },
    {
      "cell_type": "code",
      "source": [
        "sec_A_students = {\n",
        "    \"s1\":{\n",
        "        'name' : 'mohit',\n",
        "        'roll' : 60,\n",
        "        'year' : 2020\n",
        "    },\n",
        "\n",
        "    \"s2\":{\n",
        "        'name' : 'ayush',\n",
        "        'roll' : 20,\n",
        "        'year' : 2024\n",
        "    }\n",
        "}\n",
        "\n",
        "# print(sec_A_students[\"s1\"][\"roll\"])\n",
        "\n",
        "# print({k[v][\"roll\"] for k, v in sec_A_students })\n",
        "\n",
        "# print({(sec_A_students[s]['name'], sec_A_students[s]['roll']) for s in sec_A_students})\n",
        "\n",
        "for k, v in sec_A_students.items():\n",
        "    print(k)  # outer key (e.g., 's1')\n",
        "    for y in v:\n",
        "        print(y, v[y])  # inner key-value pairs\n",
        "\n"
      ],
      "metadata": {
        "colab": {
          "base_uri": "https://localhost:8080/"
        },
        "id": "u6fb-7nrKyP9",
        "outputId": "56694c18-19ee-4481-fa00-da68e03b3e35"
      },
      "execution_count": 44,
      "outputs": [
        {
          "output_type": "stream",
          "name": "stdout",
          "text": [
            "s1\n",
            "name mohit\n",
            "roll 60\n",
            "year 2020\n",
            "s2\n",
            "name ayush\n",
            "roll 20\n",
            "year 2024\n"
          ]
        }
      ]
    },
    {
      "cell_type": "code",
      "source": [],
      "metadata": {
        "id": "OMMMzVF_MF2e"
      },
      "execution_count": null,
      "outputs": []
    }
  ],
  "metadata": {
    "colab": {
      "gpuType": "T4",
      "provenance": [],
      "authorship_tag": "ABX9TyNDtx0NU2SwSJOTzrK301+N",
      "include_colab_link": true
    },
    "kernelspec": {
      "display_name": "Python 3",
      "name": "python3"
    },
    "language_info": {
      "name": "python"
    }
  },
  "nbformat": 4,
  "nbformat_minor": 0
}