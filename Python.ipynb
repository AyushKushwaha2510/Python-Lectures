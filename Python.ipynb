{
  "nbformat": 4,
  "nbformat_minor": 0,
  "metadata": {
    "colab": {
      "provenance": [],
      "gpuType": "T4",
      "authorship_tag": "ABX9TyN4l5mMnHmsAJLSmeMpirqD",
      "include_colab_link": true
    },
    "kernelspec": {
      "name": "python3",
      "display_name": "Python 3"
    },
    "language_info": {
      "name": "python"
    }
  },
  "cells": [
    {
      "cell_type": "markdown",
      "metadata": {
        "id": "view-in-github",
        "colab_type": "text"
      },
      "source": [
        "<a href=\"https://colab.research.google.com/github/AyushKushwaha2510/Python-Lectures/blob/main/Python.ipynb\" target=\"_parent\"><img src=\"https://colab.research.google.com/assets/colab-badge.svg\" alt=\"Open In Colab\"/></a>"
      ]
    },
    {
      "cell_type": "markdown",
      "source": [
        "Write a progaram to swap numbers"
      ],
      "metadata": {
        "id": "zISuA9EH-B7x"
      }
    },
    {
      "cell_type": "code",
      "execution_count": null,
      "metadata": {
        "colab": {
          "base_uri": "https://localhost:8080/"
        },
        "id": "D5ZVyJ1o2qMy",
        "outputId": "76c3e541-1d55-4f6c-c437-08c1f9b03388"
      },
      "outputs": [
        {
          "output_type": "stream",
          "name": "stdout",
          "text": [
            "6 5\n"
          ]
        }
      ],
      "source": [
        "a, b = 5, 6\n",
        "b, a = a, b\n",
        "print(a, b)"
      ]
    },
    {
      "cell_type": "code",
      "source": [
        "_hulk = 1000\n",
        "_thor = 800\n",
        "print(\"Hulk power = \", _hulk)\n",
        "print(\"Thor power = \", _thor)\n",
        "_hulk, _thor = _thor, _hulk\n",
        "print(\"After Swap\")\n",
        "print(\"Hulk power = \", _hulk)\n",
        "print(\"Thor power = \", _thor)"
      ],
      "metadata": {
        "colab": {
          "base_uri": "https://localhost:8080/"
        },
        "id": "9Yab_iJi_nRd",
        "outputId": "4dfc7f99-01cd-40a8-b609-e668fdf3f4cc"
      },
      "execution_count": null,
      "outputs": [
        {
          "output_type": "stream",
          "name": "stdout",
          "text": [
            "Hulk power =  1000\n",
            "Thor power =  800\n",
            "After Swap\n",
            "Hulk power =  800\n",
            "Thor power =  1000\n"
          ]
        }
      ]
    },
    {
      "cell_type": "markdown",
      "source": [
        "TypeCasting :\n",
        "hulk strenght level is recorded as a string input 1000, convert it into an inteeger and increase it by 200"
      ],
      "metadata": {
        "id": "BdYp_gNwAiDB"
      }
    },
    {
      "cell_type": "code",
      "source": [],
      "metadata": {
        "id": "HEp4xFKcBoiY"
      },
      "execution_count": null,
      "outputs": []
    },
    {
      "cell_type": "markdown",
      "source": [],
      "metadata": {
        "id": "Pj87moxBEdM0"
      }
    },
    {
      "cell_type": "markdown",
      "source": [],
      "metadata": {
        "id": "mmOjzVVeEnf4"
      }
    },
    {
      "cell_type": "markdown",
      "source": [
        "Thor hammer weight is 5000 , but you need to calculate the gravitational force which requies it as a float"
      ],
      "metadata": {
        "id": "mO1vpyfRA13K"
      }
    },
    {
      "cell_type": "code",
      "source": [],
      "metadata": {
        "id": "japiOTVFBpVb"
      },
      "execution_count": null,
      "outputs": []
    },
    {
      "cell_type": "markdown",
      "source": [
        "Locy gets input in seconds as strings = \"3600\". Convert it into an integer and then to hours. Show final result as a float"
      ],
      "metadata": {
        "id": "RcUCupVWBFhu"
      }
    },
    {
      "cell_type": "code",
      "source": [],
      "metadata": {
        "id": "6-zsQRFKBp-C"
      },
      "execution_count": null,
      "outputs": []
    },
    {
      "cell_type": "markdown",
      "source": [
        "IronMan recorded seven hits outoff ten shots, both integers. Convert them into float and calculatet the accuracy percentage.\n"
      ],
      "metadata": {
        "id": "rRP3JtNyBXSO"
      }
    },
    {
      "cell_type": "code",
      "source": [
        "hits, total_shots = 7, 10\n",
        "acc = float(hits/total_shots) * 100\n",
        "print(\"Acc % is :\", acc)\n",
        "print(f\"Acc % is : {acc:.2f}\")\n"
      ],
      "metadata": {
        "colab": {
          "base_uri": "https://localhost:8080/"
        },
        "id": "BEeYujhCBqb_",
        "outputId": "1a83d8c7-a9ea-489b-a0dd-1b44c8c578fd"
      },
      "execution_count": null,
      "outputs": [
        {
          "output_type": "stream",
          "name": "stdout",
          "text": [
            "Acc % is : 70.0\n",
            "Acc % is : 70.00\n"
          ]
        }
      ]
    },
    {
      "cell_type": "markdown",
      "source": [
        "# Object Referencing\n",
        "\n",
        "```\n",
        "# This is formatted as code\n",
        "```\n",
        "[link text](https://)\n"
      ],
      "metadata": {
        "id": "6OpYm-xhEo1B"
      }
    },
    {
      "cell_type": "markdown",
      "source": [
        "Python Variable hold references to objects, not the actual objects themselves"
      ],
      "metadata": {
        "id": "5r_gMGOGFZEm"
      }
    },
    {
      "cell_type": "markdown",
      "source": [],
      "metadata": {
        "id": "bEwdcdukHJBS"
      }
    },
    {
      "cell_type": "code",
      "source": [
        "a = [1, 2, 3]\n",
        "b = a\n",
        "print(\"a original : \", a)\n",
        "b.append(4)\n",
        "print(\"a new :\", a)\n",
        "print(\"b : \", b)"
      ],
      "metadata": {
        "colab": {
          "base_uri": "https://localhost:8080/"
        },
        "id": "-DF88MArEsGT",
        "outputId": "14e716c6-6ca8-46f4-bfb7-9ae9512f3a2f"
      },
      "execution_count": null,
      "outputs": [
        {
          "output_type": "stream",
          "name": "stdout",
          "text": [
            "a original :  [1, 2, 3]\n",
            "a new : [1, 2, 3, 4]\n",
            "b :  [1, 2, 3, 4]\n"
          ]
        }
      ]
    },
    {
      "cell_type": "markdown",
      "source": [
        "Re-assinging a variable does not affect other variables referencing the same object unless explicitly updated"
      ],
      "metadata": {
        "id": "FRIt43YPHcEr"
      }
    },
    {
      "cell_type": "code",
      "source": [
        "a = [1, 2, 3]\n",
        "b = a\n",
        "b = [4, 5, 6]\n",
        "print(\"a :\", a)\n",
        "print(\"b :\", b)"
      ],
      "metadata": {
        "colab": {
          "base_uri": "https://localhost:8080/"
        },
        "id": "eQIA6vQUHQwS",
        "outputId": "9c744b50-174e-4d4f-b04b-3b359a6e3e5d"
      },
      "execution_count": null,
      "outputs": [
        {
          "output_type": "stream",
          "name": "stdout",
          "text": [
            "a : [1, 2, 3]\n",
            "b : [4, 5, 6]\n"
          ]
        }
      ]
    },
    {
      "cell_type": "code",
      "source": [
        "shield = ['vibranium', 'round']\n",
        "copy_shield = shield\n",
        "print(\"Original Shield is\", shield)\n",
        "print(\"Wolverine changes the material of shield\")\n",
        "copy_shield = 'adamantium'\n",
        "print(\"New_shield\", shield)"
      ],
      "metadata": {
        "colab": {
          "base_uri": "https://localhost:8080/"
        },
        "id": "4P92jFjyIEpb",
        "outputId": "04268b4a-17e7-43be-dc92-ac0dd9f7402c"
      },
      "execution_count": null,
      "outputs": [
        {
          "output_type": "stream",
          "name": "stdout",
          "text": [
            "Original Shield is ['vibranium', 'round']\n",
            "Wolverine changes the material of shield\n",
            "New_shield ['vibranium', 'round']\n"
          ]
        }
      ]
    },
    {
      "cell_type": "markdown",
      "source": [
        "Removing a variable\n"
      ],
      "metadata": {
        "id": "scdWX0TvLDkB"
      }
    },
    {
      "cell_type": "code",
      "source": [
        "a = 10\n",
        "del a\n",
        "print(\"a :\", a)"
      ],
      "metadata": {
        "colab": {
          "base_uri": "https://localhost:8080/",
          "height": 176
        },
        "id": "xZJ4BUsrLBbk",
        "outputId": "d4632d28-d507-480e-8250-4e48fc1f56e1"
      },
      "execution_count": null,
      "outputs": [
        {
          "output_type": "error",
          "ename": "NameError",
          "evalue": "name 'a' is not defined",
          "traceback": [
            "\u001b[0;31m---------------------------------------------------------------------------\u001b[0m",
            "\u001b[0;31mNameError\u001b[0m                                 Traceback (most recent call last)",
            "\u001b[0;32m/tmp/ipython-input-1110258851.py\u001b[0m in \u001b[0;36m<cell line: 0>\u001b[0;34m()\u001b[0m\n\u001b[1;32m      1\u001b[0m \u001b[0ma\u001b[0m \u001b[0;34m=\u001b[0m \u001b[0;36m10\u001b[0m\u001b[0;34m\u001b[0m\u001b[0;34m\u001b[0m\u001b[0m\n\u001b[1;32m      2\u001b[0m \u001b[0;32mdel\u001b[0m \u001b[0ma\u001b[0m\u001b[0;34m\u001b[0m\u001b[0;34m\u001b[0m\u001b[0m\n\u001b[0;32m----> 3\u001b[0;31m \u001b[0mprint\u001b[0m\u001b[0;34m(\u001b[0m\u001b[0;34m\"a :\"\u001b[0m\u001b[0;34m,\u001b[0m \u001b[0ma\u001b[0m\u001b[0;34m)\u001b[0m\u001b[0;34m\u001b[0m\u001b[0;34m\u001b[0m\u001b[0m\n\u001b[0m",
            "\u001b[0;31mNameError\u001b[0m: name 'a' is not defined"
          ]
        }
      ]
    },
    {
      "cell_type": "code",
      "source": [
        "x = ['apple', 'banana', 'orange', 'mango', 'pineapple']\n",
        "del x[0]\n",
        "print(\"updated list :\",x)\n",
        "del x[2:4]\n",
        "print(\"updated list :\",x)"
      ],
      "metadata": {
        "colab": {
          "base_uri": "https://localhost:8080/"
        },
        "id": "mv3YISOiLY6X",
        "outputId": "baece36e-403f-4bee-9e4b-5422549b408e"
      },
      "execution_count": null,
      "outputs": [
        {
          "output_type": "stream",
          "name": "stdout",
          "text": [
            "updated list : ['banana', 'orange', 'mango', 'pineapple']\n",
            "updated list : ['banana', 'orange']\n"
          ]
        }
      ]
    },
    {
      "cell_type": "markdown",
      "source": [
        "You need to calculate the average of the power level of your favourite avenger character\n"
      ],
      "metadata": {
        "id": "pL6uEKodAkKU"
      }
    },
    {
      "cell_type": "code",
      "source": [
        "power = [200, 400, 500, 100, 233]\n",
        "if power :\n",
        "  average = round(sum(power)/len(power), 2)\n",
        "else:\n",
        "  average = 0\n",
        "\n",
        "print(\"average :\", average)"
      ],
      "metadata": {
        "colab": {
          "base_uri": "https://localhost:8080/"
        },
        "id": "WkDH4Bv_Av6p",
        "outputId": "75fc258a-34f8-48d3-d910-1eb55bae2c6e"
      },
      "execution_count": null,
      "outputs": [
        {
          "output_type": "stream",
          "name": "stdout",
          "text": [
            "average : 286.6\n"
          ]
        }
      ]
    },
    {
      "cell_type": "markdown",
      "source": [
        "Interview TIP :\n",
        "\n",
        "You must validate your input data and if empty or incorrect datatype can collapse even the strongest algorithm.\n",
        "Never understimate the input validation"
      ],
      "metadata": {
        "id": "aUk5ZOgnDrZn"
      }
    },
    {
      "cell_type": "markdown",
      "source": [],
      "metadata": {
        "id": "qRbZBL0wHQvN"
      }
    },
    {
      "cell_type": "code",
      "source": [
        "import statistics"
      ],
      "metadata": {
        "id": "gHZQvXFdE2Zt"
      },
      "execution_count": null,
      "outputs": []
    },
    {
      "cell_type": "markdown",
      "source": [
        "String"
      ],
      "metadata": {
        "id": "AoejrcYsHScw"
      }
    },
    {
      "cell_type": "markdown",
      "source": [
        "# String Datatype\n",
        "\n",
        "1. Ordered collection of character arranged in a sequence.\n",
        "2. String are arrays of bytes represented in Unicode characters.\n",
        "3. No separate character. Character is lenght of one.\n",
        "4. String is represented using ' ' or \" \" or \"\"\" \"\"\" .\n",
        "5. String is immutable."
      ],
      "metadata": {
        "id": "CzRsf4_CHnYj"
      }
    },
    {
      "cell_type": "code",
      "source": [
        "s1 = \"This is a string\"\n",
        "print(s1)\n",
        "s2 = \"This\" + \"is\" + 'also' + '''a''' + \"\"\"string\"\"\"\n",
        "print(s2)\n",
        "s3 = \"This\" + \" \" +  \"is\" + \" \" + 'also' + \" \" +  '''a''' + \" \" + \"\"\"string\"\"\"\n",
        "print(s3)\n",
        "s4 = \"This is an example of \\\n",
        "single line string written accross multiple lines.\"\n",
        "print(s4)"
      ],
      "metadata": {
        "colab": {
          "base_uri": "https://localhost:8080/"
        },
        "id": "a5HXkhF9IdQW",
        "outputId": "cfad7c33-4d54-47cb-c6a5-b916f3da1fe0"
      },
      "execution_count": null,
      "outputs": [
        {
          "output_type": "stream",
          "name": "stdout",
          "text": [
            "This is a string\n",
            "Thisisalsoastring\n",
            "This is also a string\n",
            "This is an example of single line string written accross multiple lines.\n"
          ]
        }
      ]
    },
    {
      "cell_type": "markdown",
      "source": [
        "Concept :\n",
        "A string can be repeated by multiplying it by an integer."
      ],
      "metadata": {
        "id": "cOJPOHhTK8CQ"
      }
    },
    {
      "cell_type": "code",
      "source": [
        "hulk = \"hulk : SMASH!! \\n\"\n",
        "print(hulk*3)"
      ],
      "metadata": {
        "colab": {
          "base_uri": "https://localhost:8080/"
        },
        "id": "eKTxeRsGKoVI",
        "outputId": "ef15ca9f-54ce-4eba-896b-eb10833f6b37"
      },
      "execution_count": null,
      "outputs": [
        {
          "output_type": "stream",
          "name": "stdout",
          "text": [
            "hulk : SMASH!! \n",
            "hulk : SMASH!! \n",
            "hulk : SMASH!! \n",
            "\n"
          ]
        }
      ]
    },
    {
      "cell_type": "markdown",
      "source": [
        "if you use # in a string , it will not behave as a comment"
      ],
      "metadata": {
        "id": "_ve1lljFMrdz"
      }
    },
    {
      "cell_type": "code",
      "source": [
        "iron_man = \"MissionID:#100\"\n",
        "cap_am = \"Avengers Assemble!#This is not a comment\" # including (#) symbol to a string\n",
        "print(iron_man)\n",
        "print(cap_am)\n",
        "# lenght of string\n",
        "avenger = \"IRONMAN\"\n",
        "avenger1 = \"IRON MAN\"\n",
        "lenght_av = len(avenger)\n",
        "lenght_av1 = len(avenger1)\n",
        "print(f\"The length of this string is {lenght_av} \")\n",
        "print(f\"The length of this string is {lenght_av1} \")\n",
        "\n",
        "first_char = avenger1[0]\n",
        "print(f\"The first char of this string is {first_char} \")\n",
        "last_char = avenger1[-1]\n",
        "print(f\"The last char of this string is {last_char} \")\n",
        "\n",
        "# you can use both 0 and -0 for the first index , both are same\n",
        "first_char = avenger1[-0]\n",
        "print(f\"The first char of this string using -0 is {first_char} \")"
      ],
      "metadata": {
        "colab": {
          "base_uri": "https://localhost:8080/"
        },
        "id": "2N-hL0FEMyPb",
        "outputId": "8568db27-e68f-451f-e9ab-6a59f86e37fb"
      },
      "execution_count": null,
      "outputs": [
        {
          "output_type": "stream",
          "name": "stdout",
          "text": [
            "MissionID:#100\n",
            "Avengers Assemble!#This is not a comment\n",
            "The length of this string is 7 \n",
            "The length of this string is 8 \n",
            "The first char of this string is I \n",
            "The last char of this string is N \n",
            "The first char of this string using -0 is I \n"
          ]
        }
      ]
    },
    {
      "cell_type": "code",
      "source": [
        "# Slicing of String\n",
        "\n",
        "avenger = \"IRON MAN\"\n",
        "slicing = avenger[4:9] # if the upper limit is > size of string , then it will slice the sting till last\n",
        "print(slicing)\n",
        "\n",
        "print(avenger[-8:-4])\n",
        "print(avenger[-8:-4][::-1])\n",
        "\n",
        "for _ in avenger :\n",
        "  print(_, end = \"*\")\n",
        "\n",
        "print(\"\\n\",avenger[:6])"
      ],
      "metadata": {
        "colab": {
          "base_uri": "https://localhost:8080/"
        },
        "id": "iFknkdpPPW6V",
        "outputId": "43a1fccf-d6df-4d51-fcc3-9f07d7c09345"
      },
      "execution_count": null,
      "outputs": [
        {
          "output_type": "stream",
          "name": "stdout",
          "text": [
            " MAN\n",
            "IRON\n",
            "NORI\n",
            "I*R*O*N* *M*A*N*\n",
            " IRON M\n"
          ]
        }
      ]
    },
    {
      "cell_type": "markdown",
      "source": [
        "Write a pyton program to select the parts {middle} of the sequences. These sequences are the tokens of text.\n",
        "Example: token = [\"ironman\", \"saves\", \"the\", \"world\", \"again\"]"
      ],
      "metadata": {
        "id": "wkE3gnPCSOtv"
      }
    },
    {
      "cell_type": "code",
      "source": [
        "token = [\"ironman\", \"saves\", \"the\", \"world\", \"again\"]\n",
        "middle = token[2:3]\n",
        "print(middle)"
      ],
      "metadata": {
        "colab": {
          "base_uri": "https://localhost:8080/"
        },
        "id": "ebye2ft8TTMb",
        "outputId": "137b3395-7cd1-4a2a-be1b-031ae7844366"
      },
      "execution_count": null,
      "outputs": [
        {
          "output_type": "stream",
          "name": "stdout",
          "text": [
            "['the']\n"
          ]
        }
      ]
    },
    {
      "cell_type": "markdown",
      "source": [
        "Slicing Concepts is usefull in text preprocssing (NLP - Natural Language Processing)\n",
        "\n",
        "It is aslo used in features extraction and sequence modles\n",
        "eg : RNN, tansformer network"
      ],
      "metadata": {
        "id": "6FLKhpSET87b"
      }
    },
    {
      "cell_type": "markdown",
      "source": [
        "#Boolean\n"
      ],
      "metadata": {
        "id": "wW1Ti3ZZAcNR"
      }
    },
    {
      "cell_type": "markdown",
      "source": [],
      "metadata": {
        "id": "ziqc_Ww3Aeas"
      }
    },
    {
      "cell_type": "code",
      "source": [
        "print(10>9>8)\n",
        "print(10>9 and 9>8)\n",
        "print(10>9 or 9>8)\n",
        "print(10>9 or 10<9)\n",
        "print(10>9 and 10<9)\n",
        "print(10>9<11)\n",
        "print(10>9<5)\n",
        "print(not 10>9)\n",
        "\n",
        "print(10^20)"
      ],
      "metadata": {
        "colab": {
          "base_uri": "https://localhost:8080/"
        },
        "id": "bJ264VwjAfnx",
        "outputId": "6ca9b2f1-7106-43a8-ea3e-22d6dd5df5b7"
      },
      "execution_count": 9,
      "outputs": [
        {
          "output_type": "stream",
          "name": "stdout",
          "text": [
            "True\n",
            "True\n",
            "True\n",
            "True\n",
            "False\n",
            "True\n",
            "False\n",
            "False\n",
            "30\n"
          ]
        }
      ]
    },
    {
      "cell_type": "markdown",
      "source": [
        "Uses of XOR:\n",
        "if original bits are changed by some other bits, then we can check it by doing xor, the bits which are 1 , they are changed."
      ],
      "metadata": {
        "id": "8IAL5zvCDnqG"
      }
    },
    {
      "cell_type": "markdown",
      "source": [
        "Swap two numbers without using any extra variable"
      ],
      "metadata": {
        "id": "TqvE0gPKD3iM"
      }
    },
    {
      "cell_type": "code",
      "source": [
        "a = 5\n",
        "b = 7\n",
        "\n",
        "print(\"orignial\", a, b)\n",
        "a = a^b\n",
        "b = a^b   # b = a^b^b  => b = a\n",
        "a = a^b   # a = a^b^a  => a = b\n",
        "\n",
        "print(\"swaped\", a, b)\n"
      ],
      "metadata": {
        "colab": {
          "base_uri": "https://localhost:8080/"
        },
        "id": "z3B4kIDOD3P-",
        "outputId": "29ca0323-44a6-48ea-d860-ea216f506c9a"
      },
      "execution_count": 12,
      "outputs": [
        {
          "output_type": "stream",
          "name": "stdout",
          "text": [
            "orignial 5 7\n",
            "swaped 7 5\n"
          ]
        }
      ]
    },
    {
      "cell_type": "markdown",
      "source": [
        "Find the XOR of a number 10, 7.\n"
      ],
      "metadata": {
        "id": "0BSUBL2wFNcy"
      }
    },
    {
      "cell_type": "code",
      "source": [
        "xor = 10^7\n",
        "print(xor)"
      ],
      "metadata": {
        "colab": {
          "base_uri": "https://localhost:8080/"
        },
        "id": "WVJqDHJ3FX5e",
        "outputId": "4ed90eed-3e5c-4904-bf49-ca66405cb556"
      },
      "execution_count": 15,
      "outputs": [
        {
          "output_type": "stream",
          "name": "stdout",
          "text": [
            "13\n"
          ]
        }
      ]
    },
    {
      "cell_type": "markdown",
      "source": [
        "Check if XOR of two numbers are odd or even"
      ],
      "metadata": {
        "id": "vNHBsCfLFRwz"
      }
    },
    {
      "cell_type": "code",
      "source": [
        "a = 10\n",
        "b = 7\n",
        "\n",
        "if(a^b)%2 == 0:\n",
        "  print(\"even\")\n",
        "else:\n",
        "  print(\"odd\")"
      ],
      "metadata": {
        "colab": {
          "base_uri": "https://localhost:8080/"
        },
        "id": "fHdJLYqPFYfj",
        "outputId": "76f71e58-a576-4920-8f4c-dcaa373f48fa"
      },
      "execution_count": 16,
      "outputs": [
        {
          "output_type": "stream",
          "name": "stdout",
          "text": [
            "odd\n"
          ]
        }
      ]
    },
    {
      "cell_type": "markdown",
      "source": [
        "Find unique number in an array, only one integer is unique, rest comes two times"
      ],
      "metadata": {
        "id": "3QvHvjTUF5S7"
      }
    },
    {
      "cell_type": "code",
      "source": [
        "L = [4, 1, 2, 1, 2]\n",
        "\n",
        "unique = 0\n",
        "for num in L:\n",
        "  unique ^= num\n",
        "\n",
        "print(unique)\n"
      ],
      "metadata": {
        "colab": {
          "base_uri": "https://localhost:8080/"
        },
        "id": "OYbJEdW6GDGS",
        "outputId": "b71da6ec-a523-4a2d-b747-5e89b08718b6"
      },
      "execution_count": 17,
      "outputs": [
        {
          "output_type": "stream",
          "name": "stdout",
          "text": [
            "4\n"
          ]
        }
      ]
    },
    {
      "cell_type": "markdown",
      "source": [
        "Fibonnaci and XOR are used for bitwise Encryption"
      ],
      "metadata": {
        "id": "0-Pbc2TlIzeQ"
      }
    },
    {
      "cell_type": "code",
      "source": [
        "print(True + True)"
      ],
      "metadata": {
        "colab": {
          "base_uri": "https://localhost:8080/"
        },
        "id": "_c4SfJlTIvKx",
        "outputId": "78166ee7-3a60-4256-c45d-73947b0acf93"
      },
      "execution_count": 18,
      "outputs": [
        {
          "output_type": "stream",
          "name": "stdout",
          "text": [
            "2\n"
          ]
        }
      ]
    },
    {
      "cell_type": "code",
      "source": [
        "print(bool([]))  # empty\n",
        "print(bool(\" \")) # non empty"
      ],
      "metadata": {
        "colab": {
          "base_uri": "https://localhost:8080/"
        },
        "id": "SoiWYyTTJEKd",
        "outputId": "ee2be405-0dbd-478b-ee52-04f110465f91"
      },
      "execution_count": 19,
      "outputs": [
        {
          "output_type": "stream",
          "name": "stdout",
          "text": [
            "False\n",
            "True\n"
          ]
        }
      ]
    },
    {
      "cell_type": "markdown",
      "source": [
        "all and any function\n",
        "all()\n",
        "any()"
      ],
      "metadata": {
        "id": "EjX3Y55vJi8_"
      }
    },
    {
      "cell_type": "code",
      "source": [
        "print(all([1, 2, 3]))\n",
        "print(all([0, 2, 3]))    # since all are not true,\n",
        "print(all([2, 2, 3]))\n",
        "print(all([0, 1, 2, 3])) # since all are not true,\n",
        "\n",
        "print(any([0, 1, 2, 3])) # since any is one (non-zero)\n",
        "\n",
        "print(any([True, True]))"
      ],
      "metadata": {
        "colab": {
          "base_uri": "https://localhost:8080/"
        },
        "id": "g2FXH4f1Jny4",
        "outputId": "26d019cf-e93f-4668-ccf1-42427089632f"
      },
      "execution_count": 26,
      "outputs": [
        {
          "output_type": "stream",
          "name": "stdout",
          "text": [
            "True\n",
            "False\n",
            "True\n",
            "False\n",
            "True\n",
            "True\n"
          ]
        }
      ]
    },
    {
      "cell_type": "markdown",
      "source": [
        "Check for students who have marks greater than 90"
      ],
      "metadata": {
        "id": "--RHUNa5KtE5"
      }
    },
    {
      "cell_type": "code",
      "source": [
        "marks = [65, 70, 80, 95]\n",
        "\n",
        "print(any(m >= 90 for m in marks))\n",
        "print(all(m >= 90 for m in marks))"
      ],
      "metadata": {
        "colab": {
          "base_uri": "https://localhost:8080/"
        },
        "id": "YoicXVm5Kw8D",
        "outputId": "d8771a56-8f4f-4d48-db0b-fc81edf1644f"
      },
      "execution_count": 28,
      "outputs": [
        {
          "output_type": "stream",
          "name": "stdout",
          "text": [
            "True\n",
            "False\n"
          ]
        }
      ]
    }
  ]
}