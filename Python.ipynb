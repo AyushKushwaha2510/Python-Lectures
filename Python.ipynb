{
  "cells": [
    {
      "cell_type": "markdown",
      "metadata": {
        "id": "view-in-github",
        "colab_type": "text"
      },
      "source": [
        "<a href=\"https://colab.research.google.com/github/AyushKushwaha2510/Python-Lectures/blob/main/Python.ipynb\" target=\"_parent\"><img src=\"https://colab.research.google.com/assets/colab-badge.svg\" alt=\"Open In Colab\"/></a>"
      ]
    },
    {
      "cell_type": "markdown",
      "metadata": {
        "id": "zISuA9EH-B7x"
      },
      "source": [
        "Write a progaram to swap numbers"
      ]
    },
    {
      "cell_type": "code",
      "execution_count": null,
      "metadata": {
        "colab": {
          "base_uri": "https://localhost:8080/"
        },
        "id": "D5ZVyJ1o2qMy",
        "outputId": "76c3e541-1d55-4f6c-c437-08c1f9b03388"
      },
      "outputs": [
        {
          "name": "stdout",
          "output_type": "stream",
          "text": [
            "6 5\n"
          ]
        }
      ],
      "source": [
        "a, b = 5, 6\n",
        "b, a = a, b\n",
        "print(a, b)"
      ]
    },
    {
      "cell_type": "code",
      "execution_count": null,
      "metadata": {
        "colab": {
          "base_uri": "https://localhost:8080/"
        },
        "id": "9Yab_iJi_nRd",
        "outputId": "4dfc7f99-01cd-40a8-b609-e668fdf3f4cc"
      },
      "outputs": [
        {
          "name": "stdout",
          "output_type": "stream",
          "text": [
            "Hulk power =  1000\n",
            "Thor power =  800\n",
            "After Swap\n",
            "Hulk power =  800\n",
            "Thor power =  1000\n"
          ]
        }
      ],
      "source": [
        "_hulk = 1000\n",
        "_thor = 800\n",
        "print(\"Hulk power = \", _hulk)\n",
        "print(\"Thor power = \", _thor)\n",
        "_hulk, _thor = _thor, _hulk\n",
        "print(\"After Swap\")\n",
        "print(\"Hulk power = \", _hulk)\n",
        "print(\"Thor power = \", _thor)"
      ]
    },
    {
      "cell_type": "markdown",
      "metadata": {
        "id": "BdYp_gNwAiDB"
      },
      "source": [
        "TypeCasting :\n",
        "hulk strenght level is recorded as a string input 1000, convert it into an inteeger and increase it by 200"
      ]
    },
    {
      "cell_type": "code",
      "execution_count": null,
      "metadata": {
        "id": "HEp4xFKcBoiY"
      },
      "outputs": [],
      "source": []
    },
    {
      "cell_type": "markdown",
      "metadata": {
        "id": "Pj87moxBEdM0"
      },
      "source": []
    },
    {
      "cell_type": "markdown",
      "metadata": {
        "id": "mmOjzVVeEnf4"
      },
      "source": []
    },
    {
      "cell_type": "markdown",
      "metadata": {
        "id": "mO1vpyfRA13K"
      },
      "source": [
        "Thor hammer weight is 5000 , but you need to calculate the gravitational force which requies it as a float"
      ]
    },
    {
      "cell_type": "code",
      "execution_count": null,
      "metadata": {
        "id": "japiOTVFBpVb"
      },
      "outputs": [],
      "source": []
    },
    {
      "cell_type": "markdown",
      "metadata": {
        "id": "RcUCupVWBFhu"
      },
      "source": [
        "Locy gets input in seconds as strings = \"3600\". Convert it into an integer and then to hours. Show final result as a float"
      ]
    },
    {
      "cell_type": "code",
      "execution_count": null,
      "metadata": {
        "id": "6-zsQRFKBp-C"
      },
      "outputs": [],
      "source": []
    },
    {
      "cell_type": "markdown",
      "metadata": {
        "id": "rRP3JtNyBXSO"
      },
      "source": [
        "IronMan recorded seven hits outoff ten shots, both integers. Convert them into float and calculatet the accuracy percentage.\n"
      ]
    },
    {
      "cell_type": "code",
      "execution_count": null,
      "metadata": {
        "colab": {
          "base_uri": "https://localhost:8080/"
        },
        "id": "BEeYujhCBqb_",
        "outputId": "1a83d8c7-a9ea-489b-a0dd-1b44c8c578fd"
      },
      "outputs": [
        {
          "name": "stdout",
          "output_type": "stream",
          "text": [
            "Acc % is : 70.0\n",
            "Acc % is : 70.00\n"
          ]
        }
      ],
      "source": [
        "hits, total_shots = 7, 10\n",
        "acc = float(hits/total_shots) * 100\n",
        "print(\"Acc % is :\", acc)\n",
        "print(f\"Acc % is : {acc:.2f}\")\n"
      ]
    },
    {
      "cell_type": "markdown",
      "metadata": {
        "id": "6OpYm-xhEo1B"
      },
      "source": [
        "# Object Referencing\n",
        "\n",
        "```\n",
        "# This is formatted as code\n",
        "```\n",
        "[link text](https://)\n"
      ]
    },
    {
      "cell_type": "markdown",
      "metadata": {
        "id": "5r_gMGOGFZEm"
      },
      "source": [
        "Python Variable hold references to objects, not the actual objects themselves"
      ]
    },
    {
      "cell_type": "markdown",
      "metadata": {
        "id": "bEwdcdukHJBS"
      },
      "source": []
    },
    {
      "cell_type": "code",
      "execution_count": null,
      "metadata": {
        "colab": {
          "base_uri": "https://localhost:8080/"
        },
        "id": "-DF88MArEsGT",
        "outputId": "14e716c6-6ca8-46f4-bfb7-9ae9512f3a2f"
      },
      "outputs": [
        {
          "name": "stdout",
          "output_type": "stream",
          "text": [
            "a original :  [1, 2, 3]\n",
            "a new : [1, 2, 3, 4]\n",
            "b :  [1, 2, 3, 4]\n"
          ]
        }
      ],
      "source": [
        "a = [1, 2, 3]\n",
        "b = a\n",
        "print(\"a original : \", a)\n",
        "b.append(4)\n",
        "print(\"a new :\", a)\n",
        "print(\"b : \", b)"
      ]
    },
    {
      "cell_type": "markdown",
      "metadata": {
        "id": "FRIt43YPHcEr"
      },
      "source": [
        "Re-assinging a variable does not affect other variables referencing the same object unless explicitly updated"
      ]
    },
    {
      "cell_type": "code",
      "execution_count": null,
      "metadata": {
        "colab": {
          "base_uri": "https://localhost:8080/"
        },
        "id": "eQIA6vQUHQwS",
        "outputId": "9c744b50-174e-4d4f-b04b-3b359a6e3e5d"
      },
      "outputs": [
        {
          "name": "stdout",
          "output_type": "stream",
          "text": [
            "a : [1, 2, 3]\n",
            "b : [4, 5, 6]\n"
          ]
        }
      ],
      "source": [
        "a = [1, 2, 3]\n",
        "b = a\n",
        "b = [4, 5, 6]\n",
        "print(\"a :\", a)\n",
        "print(\"b :\", b)"
      ]
    },
    {
      "cell_type": "code",
      "execution_count": null,
      "metadata": {
        "colab": {
          "base_uri": "https://localhost:8080/"
        },
        "id": "4P92jFjyIEpb",
        "outputId": "04268b4a-17e7-43be-dc92-ac0dd9f7402c"
      },
      "outputs": [
        {
          "name": "stdout",
          "output_type": "stream",
          "text": [
            "Original Shield is ['vibranium', 'round']\n",
            "Wolverine changes the material of shield\n",
            "New_shield ['vibranium', 'round']\n"
          ]
        }
      ],
      "source": [
        "shield = ['vibranium', 'round']\n",
        "copy_shield = shield\n",
        "print(\"Original Shield is\", shield)\n",
        "print(\"Wolverine changes the material of shield\")\n",
        "copy_shield = 'adamantium'\n",
        "print(\"New_shield\", shield)"
      ]
    },
    {
      "cell_type": "markdown",
      "metadata": {
        "id": "scdWX0TvLDkB"
      },
      "source": [
        "Removing a variable\n"
      ]
    },
    {
      "cell_type": "code",
      "execution_count": null,
      "metadata": {
        "colab": {
          "base_uri": "https://localhost:8080/",
          "height": 176
        },
        "id": "xZJ4BUsrLBbk",
        "outputId": "d4632d28-d507-480e-8250-4e48fc1f56e1"
      },
      "outputs": [
        {
          "ename": "NameError",
          "evalue": "name 'a' is not defined",
          "output_type": "error",
          "traceback": [
            "\u001b[0;31m---------------------------------------------------------------------------\u001b[0m",
            "\u001b[0;31mNameError\u001b[0m                                 Traceback (most recent call last)",
            "\u001b[0;32m/tmp/ipython-input-1110258851.py\u001b[0m in \u001b[0;36m<cell line: 0>\u001b[0;34m()\u001b[0m\n\u001b[1;32m      1\u001b[0m \u001b[0ma\u001b[0m \u001b[0;34m=\u001b[0m \u001b[0;36m10\u001b[0m\u001b[0;34m\u001b[0m\u001b[0;34m\u001b[0m\u001b[0m\n\u001b[1;32m      2\u001b[0m \u001b[0;32mdel\u001b[0m \u001b[0ma\u001b[0m\u001b[0;34m\u001b[0m\u001b[0;34m\u001b[0m\u001b[0m\n\u001b[0;32m----> 3\u001b[0;31m \u001b[0mprint\u001b[0m\u001b[0;34m(\u001b[0m\u001b[0;34m\"a :\"\u001b[0m\u001b[0;34m,\u001b[0m \u001b[0ma\u001b[0m\u001b[0;34m)\u001b[0m\u001b[0;34m\u001b[0m\u001b[0;34m\u001b[0m\u001b[0m\n\u001b[0m",
            "\u001b[0;31mNameError\u001b[0m: name 'a' is not defined"
          ]
        }
      ],
      "source": [
        "a = 10\n",
        "del a\n",
        "print(\"a :\", a)"
      ]
    },
    {
      "cell_type": "code",
      "execution_count": null,
      "metadata": {
        "colab": {
          "base_uri": "https://localhost:8080/"
        },
        "id": "mv3YISOiLY6X",
        "outputId": "baece36e-403f-4bee-9e4b-5422549b408e"
      },
      "outputs": [
        {
          "name": "stdout",
          "output_type": "stream",
          "text": [
            "updated list : ['banana', 'orange', 'mango', 'pineapple']\n",
            "updated list : ['banana', 'orange']\n"
          ]
        }
      ],
      "source": [
        "x = ['apple', 'banana', 'orange', 'mango', 'pineapple']\n",
        "del x[0]\n",
        "print(\"updated list :\",x)\n",
        "del x[2:4]\n",
        "print(\"updated list :\",x)"
      ]
    },
    {
      "cell_type": "markdown",
      "metadata": {
        "id": "pL6uEKodAkKU"
      },
      "source": [
        "You need to calculate the average of the power level of your favourite avenger character\n"
      ]
    },
    {
      "cell_type": "code",
      "execution_count": null,
      "metadata": {
        "colab": {
          "base_uri": "https://localhost:8080/"
        },
        "id": "WkDH4Bv_Av6p",
        "outputId": "75fc258a-34f8-48d3-d910-1eb55bae2c6e"
      },
      "outputs": [
        {
          "name": "stdout",
          "output_type": "stream",
          "text": [
            "average : 286.6\n"
          ]
        }
      ],
      "source": [
        "power = [200, 400, 500, 100, 233]\n",
        "if power :\n",
        "  average = round(sum(power)/len(power), 2)\n",
        "else:\n",
        "  average = 0\n",
        "\n",
        "print(\"average :\", average)"
      ]
    },
    {
      "cell_type": "markdown",
      "metadata": {
        "id": "aUk5ZOgnDrZn"
      },
      "source": [
        "Interview TIP :\n",
        "\n",
        "You must validate your input data and if empty or incorrect datatype can collapse even the strongest algorithm.\n",
        "Never understimate the input validation"
      ]
    },
    {
      "cell_type": "markdown",
      "metadata": {
        "id": "qRbZBL0wHQvN"
      },
      "source": []
    },
    {
      "cell_type": "code",
      "execution_count": null,
      "metadata": {
        "id": "gHZQvXFdE2Zt"
      },
      "outputs": [],
      "source": [
        "import statistics"
      ]
    },
    {
      "cell_type": "markdown",
      "metadata": {
        "id": "AoejrcYsHScw"
      },
      "source": [
        "String"
      ]
    },
    {
      "cell_type": "markdown",
      "metadata": {
        "id": "CzRsf4_CHnYj"
      },
      "source": [
        "# String Datatype\n",
        "\n",
        "1. Ordered collection of character arranged in a sequence.\n",
        "2. String are arrays of bytes represented in Unicode characters.\n",
        "3. No separate character. Character is lenght of one.\n",
        "4. String is represented using ' ' or \" \" or \"\"\" \"\"\" .\n",
        "5. String is immutable."
      ]
    },
    {
      "cell_type": "code",
      "execution_count": null,
      "metadata": {
        "colab": {
          "base_uri": "https://localhost:8080/"
        },
        "id": "a5HXkhF9IdQW",
        "outputId": "cfad7c33-4d54-47cb-c6a5-b916f3da1fe0"
      },
      "outputs": [
        {
          "name": "stdout",
          "output_type": "stream",
          "text": [
            "This is a string\n",
            "Thisisalsoastring\n",
            "This is also a string\n",
            "This is an example of single line string written accross multiple lines.\n"
          ]
        }
      ],
      "source": [
        "s1 = \"This is a string\"\n",
        "print(s1)\n",
        "s2 = \"This\" + \"is\" + 'also' + '''a''' + \"\"\"string\"\"\"\n",
        "print(s2)\n",
        "s3 = \"This\" + \" \" +  \"is\" + \" \" + 'also' + \" \" +  '''a''' + \" \" + \"\"\"string\"\"\"\n",
        "print(s3)\n",
        "s4 = \"This is an example of \\\n",
        "single line string written accross multiple lines.\"\n",
        "print(s4)"
      ]
    },
    {
      "cell_type": "markdown",
      "metadata": {
        "id": "cOJPOHhTK8CQ"
      },
      "source": [
        "Concept :\n",
        "A string can be repeated by multiplying it by an integer."
      ]
    },
    {
      "cell_type": "code",
      "execution_count": null,
      "metadata": {
        "colab": {
          "base_uri": "https://localhost:8080/"
        },
        "id": "eKTxeRsGKoVI",
        "outputId": "ef15ca9f-54ce-4eba-896b-eb10833f6b37"
      },
      "outputs": [
        {
          "name": "stdout",
          "output_type": "stream",
          "text": [
            "hulk : SMASH!! \n",
            "hulk : SMASH!! \n",
            "hulk : SMASH!! \n",
            "\n"
          ]
        }
      ],
      "source": [
        "hulk = \"hulk : SMASH!! \\n\"\n",
        "print(hulk*3)"
      ]
    },
    {
      "cell_type": "markdown",
      "metadata": {
        "id": "_ve1lljFMrdz"
      },
      "source": [
        "if you use # in a string , it will not behave as a comment"
      ]
    },
    {
      "cell_type": "code",
      "execution_count": null,
      "metadata": {
        "colab": {
          "base_uri": "https://localhost:8080/"
        },
        "id": "2N-hL0FEMyPb",
        "outputId": "8568db27-e68f-451f-e9ab-6a59f86e37fb"
      },
      "outputs": [
        {
          "name": "stdout",
          "output_type": "stream",
          "text": [
            "MissionID:#100\n",
            "Avengers Assemble!#This is not a comment\n",
            "The length of this string is 7 \n",
            "The length of this string is 8 \n",
            "The first char of this string is I \n",
            "The last char of this string is N \n",
            "The first char of this string using -0 is I \n"
          ]
        }
      ],
      "source": [
        "iron_man = \"MissionID:#100\"\n",
        "cap_am = \"Avengers Assemble!#This is not a comment\" # including (#) symbol to a string\n",
        "print(iron_man)\n",
        "print(cap_am)\n",
        "# lenght of string\n",
        "avenger = \"IRONMAN\"\n",
        "avenger1 = \"IRON MAN\"\n",
        "lenght_av = len(avenger)\n",
        "lenght_av1 = len(avenger1)\n",
        "print(f\"The length of this string is {lenght_av} \")\n",
        "print(f\"The length of this string is {lenght_av1} \")\n",
        "\n",
        "first_char = avenger1[0]\n",
        "print(f\"The first char of this string is {first_char} \")\n",
        "last_char = avenger1[-1]\n",
        "print(f\"The last char of this string is {last_char} \")\n",
        "\n",
        "# you can use both 0 and -0 for the first index , both are same\n",
        "first_char = avenger1[-0]\n",
        "print(f\"The first char of this string using -0 is {first_char} \")"
      ]
    },
    {
      "cell_type": "code",
      "execution_count": null,
      "metadata": {
        "colab": {
          "base_uri": "https://localhost:8080/"
        },
        "id": "iFknkdpPPW6V",
        "outputId": "43a1fccf-d6df-4d51-fcc3-9f07d7c09345"
      },
      "outputs": [
        {
          "name": "stdout",
          "output_type": "stream",
          "text": [
            " MAN\n",
            "IRON\n",
            "NORI\n",
            "I*R*O*N* *M*A*N*\n",
            " IRON M\n"
          ]
        }
      ],
      "source": [
        "# Slicing of String\n",
        "\n",
        "avenger = \"IRON MAN\"\n",
        "slicing = avenger[4:9] # if the upper limit is > size of string , then it will slice the sting till last\n",
        "print(slicing)\n",
        "\n",
        "print(avenger[-8:-4])\n",
        "print(avenger[-8:-4][::-1])\n",
        "\n",
        "for _ in avenger :\n",
        "  print(_, end = \"*\")\n",
        "\n",
        "print(\"\\n\",avenger[:6])"
      ]
    },
    {
      "cell_type": "markdown",
      "metadata": {
        "id": "wkE3gnPCSOtv"
      },
      "source": [
        "Write a pyton program to select the parts {middle} of the sequences. These sequences are the tokens of text.\n",
        "Example: token = [\"ironman\", \"saves\", \"the\", \"world\", \"again\"]"
      ]
    },
    {
      "cell_type": "code",
      "execution_count": null,
      "metadata": {
        "colab": {
          "base_uri": "https://localhost:8080/"
        },
        "id": "ebye2ft8TTMb",
        "outputId": "137b3395-7cd1-4a2a-be1b-031ae7844366"
      },
      "outputs": [
        {
          "name": "stdout",
          "output_type": "stream",
          "text": [
            "['the']\n"
          ]
        }
      ],
      "source": [
        "token = [\"ironman\", \"saves\", \"the\", \"world\", \"again\"]\n",
        "middle = token[2:3]\n",
        "print(middle)"
      ]
    },
    {
      "cell_type": "markdown",
      "metadata": {
        "id": "6FLKhpSET87b"
      },
      "source": [
        "Slicing Concepts is usefull in text preprocssing (NLP - Natural Language Processing)\n",
        "\n",
        "It is aslo used in features extraction and sequence modles\n",
        "eg : RNN, tansformer network"
      ]
    },
    {
      "cell_type": "markdown",
      "metadata": {
        "id": "wW1Ti3ZZAcNR"
      },
      "source": [
        "#Boolean\n"
      ]
    },
    {
      "cell_type": "markdown",
      "metadata": {
        "id": "ziqc_Ww3Aeas"
      },
      "source": []
    },
    {
      "cell_type": "code",
      "execution_count": null,
      "metadata": {
        "colab": {
          "base_uri": "https://localhost:8080/"
        },
        "id": "bJ264VwjAfnx",
        "outputId": "6ca9b2f1-7106-43a8-ea3e-22d6dd5df5b7"
      },
      "outputs": [
        {
          "name": "stdout",
          "output_type": "stream",
          "text": [
            "True\n",
            "True\n",
            "True\n",
            "True\n",
            "False\n",
            "True\n",
            "False\n",
            "False\n",
            "30\n"
          ]
        }
      ],
      "source": [
        "print(10>9>8)\n",
        "print(10>9 and 9>8)\n",
        "print(10>9 or 9>8)\n",
        "print(10>9 or 10<9)\n",
        "print(10>9 and 10<9)\n",
        "print(10>9<11)\n",
        "print(10>9<5)\n",
        "print(not 10>9)\n",
        "\n",
        "print(10^20)"
      ]
    },
    {
      "cell_type": "markdown",
      "metadata": {
        "id": "8IAL5zvCDnqG"
      },
      "source": [
        "Uses of XOR:\n",
        "if original bits are changed by some other bits, then we can check it by doing xor, the bits which are 1 , they are changed."
      ]
    },
    {
      "cell_type": "markdown",
      "metadata": {
        "id": "TqvE0gPKD3iM"
      },
      "source": [
        "Swap two numbers without using any extra variable"
      ]
    },
    {
      "cell_type": "code",
      "execution_count": null,
      "metadata": {
        "colab": {
          "base_uri": "https://localhost:8080/"
        },
        "id": "z3B4kIDOD3P-",
        "outputId": "29ca0323-44a6-48ea-d860-ea216f506c9a"
      },
      "outputs": [
        {
          "name": "stdout",
          "output_type": "stream",
          "text": [
            "orignial 5 7\n",
            "swaped 7 5\n"
          ]
        }
      ],
      "source": [
        "a = 5\n",
        "b = 7\n",
        "\n",
        "print(\"orignial\", a, b)\n",
        "a = a^b\n",
        "b = a^b   # b = a^b^b  => b = a\n",
        "a = a^b   # a = a^b^a  => a = b\n",
        "\n",
        "print(\"swaped\", a, b)\n"
      ]
    },
    {
      "cell_type": "markdown",
      "metadata": {
        "id": "0BSUBL2wFNcy"
      },
      "source": [
        "Find the XOR of a number 10, 7.\n"
      ]
    },
    {
      "cell_type": "code",
      "execution_count": null,
      "metadata": {
        "colab": {
          "base_uri": "https://localhost:8080/"
        },
        "id": "WVJqDHJ3FX5e",
        "outputId": "4ed90eed-3e5c-4904-bf49-ca66405cb556"
      },
      "outputs": [
        {
          "name": "stdout",
          "output_type": "stream",
          "text": [
            "13\n"
          ]
        }
      ],
      "source": [
        "xor = 10^7\n",
        "print(xor)"
      ]
    },
    {
      "cell_type": "markdown",
      "metadata": {
        "id": "vNHBsCfLFRwz"
      },
      "source": [
        "Check if XOR of two numbers are odd or even"
      ]
    },
    {
      "cell_type": "code",
      "execution_count": null,
      "metadata": {
        "colab": {
          "base_uri": "https://localhost:8080/"
        },
        "id": "fHdJLYqPFYfj",
        "outputId": "76f71e58-a576-4920-8f4c-dcaa373f48fa"
      },
      "outputs": [
        {
          "name": "stdout",
          "output_type": "stream",
          "text": [
            "odd\n"
          ]
        }
      ],
      "source": [
        "a = 10\n",
        "b = 7\n",
        "\n",
        "if(a^b)%2 == 0:\n",
        "  print(\"even\")\n",
        "else:\n",
        "  print(\"odd\")"
      ]
    },
    {
      "cell_type": "markdown",
      "metadata": {
        "id": "3QvHvjTUF5S7"
      },
      "source": [
        "Find unique number in an array, only one integer is unique, rest comes two times"
      ]
    },
    {
      "cell_type": "code",
      "execution_count": null,
      "metadata": {
        "colab": {
          "base_uri": "https://localhost:8080/"
        },
        "id": "OYbJEdW6GDGS",
        "outputId": "b71da6ec-a523-4a2d-b747-5e89b08718b6"
      },
      "outputs": [
        {
          "name": "stdout",
          "output_type": "stream",
          "text": [
            "4\n"
          ]
        }
      ],
      "source": [
        "L = [4, 1, 2, 1, 2]\n",
        "\n",
        "unique = 0\n",
        "for num in L:\n",
        "  unique ^= num\n",
        "\n",
        "print(unique)\n"
      ]
    },
    {
      "cell_type": "markdown",
      "metadata": {
        "id": "0-Pbc2TlIzeQ"
      },
      "source": [
        "Fibonnaci and XOR are used for bitwise Encryption"
      ]
    },
    {
      "cell_type": "code",
      "execution_count": null,
      "metadata": {
        "colab": {
          "base_uri": "https://localhost:8080/"
        },
        "id": "_c4SfJlTIvKx",
        "outputId": "78166ee7-3a60-4256-c45d-73947b0acf93"
      },
      "outputs": [
        {
          "name": "stdout",
          "output_type": "stream",
          "text": [
            "2\n"
          ]
        }
      ],
      "source": [
        "print(True + True)"
      ]
    },
    {
      "cell_type": "code",
      "execution_count": null,
      "metadata": {
        "colab": {
          "base_uri": "https://localhost:8080/"
        },
        "id": "SoiWYyTTJEKd",
        "outputId": "ee2be405-0dbd-478b-ee52-04f110465f91"
      },
      "outputs": [
        {
          "name": "stdout",
          "output_type": "stream",
          "text": [
            "False\n",
            "True\n"
          ]
        }
      ],
      "source": [
        "print(bool([]))  # empty\n",
        "print(bool(\" \")) # non empty"
      ]
    },
    {
      "cell_type": "markdown",
      "metadata": {
        "id": "EjX3Y55vJi8_"
      },
      "source": [
        "all and any function\n",
        "all()\n",
        "any()"
      ]
    },
    {
      "cell_type": "code",
      "execution_count": null,
      "metadata": {
        "colab": {
          "base_uri": "https://localhost:8080/"
        },
        "id": "g2FXH4f1Jny4",
        "outputId": "26d019cf-e93f-4668-ccf1-42427089632f"
      },
      "outputs": [
        {
          "name": "stdout",
          "output_type": "stream",
          "text": [
            "True\n",
            "False\n",
            "True\n",
            "False\n",
            "True\n",
            "True\n"
          ]
        }
      ],
      "source": [
        "print(all([1, 2, 3]))\n",
        "print(all([0, 2, 3]))    # since all are not true,\n",
        "print(all([2, 2, 3]))\n",
        "print(all([0, 1, 2, 3])) # since all are not true,\n",
        "\n",
        "print(any([0, 1, 2, 3])) # since any is one (non-zero)\n",
        "\n",
        "print(any([True, True]))"
      ]
    },
    {
      "cell_type": "markdown",
      "metadata": {
        "id": "--RHUNa5KtE5"
      },
      "source": [
        "Check for students who have marks greater than 90"
      ]
    },
    {
      "cell_type": "code",
      "execution_count": null,
      "metadata": {
        "colab": {
          "base_uri": "https://localhost:8080/"
        },
        "id": "YoicXVm5Kw8D",
        "outputId": "d8771a56-8f4f-4d48-db0b-fc81edf1644f"
      },
      "outputs": [
        {
          "name": "stdout",
          "output_type": "stream",
          "text": [
            "True\n",
            "False\n"
          ]
        }
      ],
      "source": [
        "marks = [65, 70, 80, 95]\n",
        "\n",
        "print(any(m >= 90 for m in marks))\n",
        "print(all(m >= 90 for m in marks))"
      ]
    },
    {
      "cell_type": "markdown",
      "metadata": {
        "id": "C6yxBx3oRjrG"
      },
      "source": [
        "#OPERATORS\n"
      ]
    },
    {
      "cell_type": "code",
      "execution_count": null,
      "metadata": {
        "colab": {
          "base_uri": "https://localhost:8080/"
        },
        "id": "LxAsu81KSOSa",
        "outputId": "7edb7166-2851-47f3-f74c-4a6c04d8faf7"
      },
      "outputs": [
        {
          "output_type": "stream",
          "name": "stdout",
          "text": [
            "19\n",
            "1\n",
            "90\n",
            "1.1111111111111112\n",
            "1\n",
            "4\n",
            "0\n",
            "256\n",
            "-4\n",
            "25\n",
            "20\n",
            "25\n",
            "125\n",
            "25.0\n",
            "5.0\n",
            "0.0\n"
          ]
        }
      ],
      "source": [
        "print(10+9)\n",
        "print(10-9)\n",
        "print(10*9)\n",
        "print(10/9)\n",
        "print(10//9)\n",
        "print(2**2)\n",
        "print(10%2) #   % is used in hashing and to check divisiblity and cryptography and alteration of my message(encryption)\n",
        "print(2**2**3) # associativity is RIGHT to LEFT\n",
        "print(-10//3) # in c/c++ is gives o/p -3\n",
        "\n",
        "\n",
        "# ASSIGNMENT OPERATOR\n",
        "\"\"\"\n",
        "a = a + b is highest precidence\n",
        "a += b is lowest precidence\n",
        "\"\"\"\n",
        "a = 5\n",
        "a*=2+3\n",
        "print(a)\n",
        "\n",
        "\"\"\" Why do we use shorthand \"\"\"\n",
        "\n",
        "a-=2+3\n",
        "print(a)\n",
        "\n",
        "a+=2+3\n",
        "print(a)\n",
        "\n",
        "a*=2+3\n",
        "print(a)\n",
        "\n",
        "a/=2+3\n",
        "print(a)\n",
        "\n",
        "a//=2+3\n",
        "print(a)\n",
        "\n",
        "a%=2+3\n",
        "print(a)\n",
        "\n",
        "\n",
        "\n"
      ]
    },
    {
      "cell_type": "code",
      "source": [
        "A = [1, 2]\n",
        "B = A\n",
        "# A += [3]    # this update V\n",
        "A = A + [3]   # this does not update V, update inplace\n",
        "print(A)\n",
        "print(B)"
      ],
      "metadata": {
        "colab": {
          "base_uri": "https://localhost:8080/"
        },
        "id": "Q_84igrdXh79",
        "outputId": "c1db1385-ee65-4492-9228-c9a26da9d3dd"
      },
      "execution_count": null,
      "outputs": [
        {
          "output_type": "stream",
          "name": "stdout",
          "text": [
            "[1, 2, 3]\n",
            "[1, 2]\n"
          ]
        }
      ]
    },
    {
      "cell_type": "code",
      "source": [
        "x = 5\n",
        "x &= 3\n",
        "print(x)\n",
        "\n",
        "y = 5\n",
        "y |= 3\n",
        "print(y)"
      ],
      "metadata": {
        "colab": {
          "base_uri": "https://localhost:8080/"
        },
        "id": "jpnX5pUEYZZI",
        "outputId": "0eecd26f-3669-40ca-9ecb-79e174205179"
      },
      "execution_count": null,
      "outputs": [
        {
          "output_type": "stream",
          "name": "stdout",
          "text": [
            "1\n",
            "7\n"
          ]
        }
      ]
    },
    {
      "cell_type": "code",
      "source": [
        "x = 5\n",
        "print(x >> 1) # 1 is the power of 2\n",
        "print(x << 1)"
      ],
      "metadata": {
        "colab": {
          "base_uri": "https://localhost:8080/"
        },
        "id": "1LQhngd5ZGt0",
        "outputId": "2cc98178-f0ee-45af-e25e-7f18c0943882"
      },
      "execution_count": null,
      "outputs": [
        {
          "output_type": "stream",
          "name": "stdout",
          "text": [
            "2\n",
            "10\n"
          ]
        }
      ]
    },
    {
      "cell_type": "code",
      "source": [
        "print(x := 5)   # : is used to make direct assignment in print"
      ],
      "metadata": {
        "colab": {
          "base_uri": "https://localhost:8080/"
        },
        "id": "W2h5ZjSMaidT",
        "outputId": "8dd4a123-307b-409f-99d6-2f2a050cb214"
      },
      "execution_count": null,
      "outputs": [
        {
          "output_type": "stream",
          "name": "stdout",
          "text": [
            "5\n"
          ]
        }
      ]
    },
    {
      "cell_type": "code",
      "source": [
        "x = 5\n",
        "x ^= 3\n",
        "print(x)\n"
      ],
      "metadata": {
        "colab": {
          "base_uri": "https://localhost:8080/"
        },
        "id": "MpkjjRYAaw-9",
        "outputId": "e9022d94-26db-4b25-8b98-5a4a6646cc86"
      },
      "execution_count": null,
      "outputs": [
        {
          "output_type": "stream",
          "name": "stdout",
          "text": [
            "6\n"
          ]
        }
      ]
    },
    {
      "cell_type": "code",
      "source": [
        "x = 5\n",
        "y = 5\n",
        "print(x == 5)"
      ],
      "metadata": {
        "colab": {
          "base_uri": "https://localhost:8080/"
        },
        "id": "rORs2fNocQKw",
        "outputId": "6a919c63-b6fe-4472-8e09-106fca0769bc"
      },
      "execution_count": null,
      "outputs": [
        {
          "output_type": "stream",
          "name": "stdout",
          "text": [
            "True\n"
          ]
        }
      ]
    },
    {
      "cell_type": "code",
      "source": [
        "# LOGICAL OPERATOR\n",
        "x = 10\n",
        "y = 20\n",
        "print(x and y)\n",
        "print(x or y)\n",
        "print([] and \"HI\")\n",
        "print([] or \"HI\")"
      ],
      "metadata": {
        "colab": {
          "base_uri": "https://localhost:8080/"
        },
        "id": "e5xYPhvbdv_e",
        "outputId": "18b2e7b4-1ed0-4131-eb20-0a2c3b405ce8"
      },
      "execution_count": null,
      "outputs": [
        {
          "output_type": "stream",
          "name": "stdout",
          "text": [
            "20\n",
            "10\n",
            "[]\n",
            "HI\n"
          ]
        }
      ]
    }
  ],
  "metadata": {
    "colab": {
      "gpuType": "T4",
      "provenance": [],
      "authorship_tag": "ABX9TyPewcrO63Iusos2C0ScVblH",
      "include_colab_link": true
    },
    "kernelspec": {
      "display_name": "Python 3",
      "name": "python3"
    },
    "language_info": {
      "name": "python"
    }
  },
  "nbformat": 4,
  "nbformat_minor": 0
}